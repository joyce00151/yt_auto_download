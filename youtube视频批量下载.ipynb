{
 "cells": [
  {
   "cell_type": "code",
   "execution_count": 4,
   "metadata": {},
   "outputs": [],
   "source": [
    "import os\n",
    "import csv\n",
    "import time\n",
    "import socket\n",
    "from selenium import webdriver\n",
    "from selenium.webdriver.edge.service import Service\n",
    "from webdriver_manager.microsoft import EdgeChromiumDriverManager\n",
    "import yt_dlp\n",
    "from googletrans import Translator\n",
    "from datetime import datetime\n",
    "import signal\n",
    "import sys\n",
    "import pandas as pd"
   ]
  },
  {
   "cell_type": "code",
   "execution_count": 5,
   "metadata": {},
   "outputs": [],
   "source": [
    "\n",
    "# 初始化翻译器\n",
    "translator = Translator()\n",
    "\n",
    "# 检查网络连接\n",
    "def check_network():\n",
    "    try:\n",
    "        socket.create_connection((\"8.8.8.8\", 53), timeout=5)\n",
    "        return True\n",
    "    except OSError:\n",
    "        return False\n",
    "\n",
    "# 获取 YouTube 视频链接（支持单个视频和合集）\n",
    "def get_playlist_videos(url):\n",
    "    ydl_opts = {\n",
    "        'quiet': True,\n",
    "        'extract_flat': True,\n",
    "        'playlist_items': '1-1000',\n",
    "    }\n",
    "    with yt_dlp.YoutubeDL(ydl_opts) as ydl:\n",
    "        result = ydl.extract_info(url, download=False)\n",
    "        if 'entries' in result:\n",
    "            return [(entry['url'], entry['title']) for entry in result['entries']]  # Return URL and title\n",
    "        return [(url, None)]  # Single video case\n",
    "\n",
    "# 自动获取 YouTube 的 cookies\n",
    "def get_youtube_cookies(output_dir):\n",
    "    if not os.path.exists(output_dir):\n",
    "        os.makedirs(output_dir)\n",
    "    \n",
    "    options = webdriver.EdgeOptions()\n",
    "    options.add_argument('--headless')\n",
    "    \n",
    "    driver = webdriver.Edge(service=Service(EdgeChromiumDriverManager().install()), options=options)\n",
    "    driver.get(\"https://www.youtube.com\")\n",
    "    time.sleep(5)\n",
    "    \n",
    "    cookies = driver.get_cookies()\n",
    "    driver.quit()\n",
    "    \n",
    "    cookies_file = os.path.join(output_dir, \"cookies.txt\")\n",
    "    with open(cookies_file, \"w\") as f:\n",
    "        for cookie in cookies:\n",
    "            f.write(f\"{cookie['name']}={cookie['value']}\\n\")\n",
    "    return cookies_file\n",
    "\n",
    "# 检查视频是否已存在（基于标题）\n",
    "def video_exists(video_title, output_dir):\n",
    "    sanitized_title = ''.join(c for c in video_title if c.isalnum() or c in ' -_')  # Sanitize for filename\n",
    "    for file in os.listdir(output_dir):\n",
    "        if sanitized_title in file:\n",
    "            return True\n",
    "    return False\n",
    "\n",
    "# 下载视频并获取信息\n",
    "def download_video_and_get_info(video_url, video_title, index, cookies_file, output_dir, max_retries=3):\n",
    "    if not os.path.exists(output_dir):\n",
    "        os.makedirs(output_dir)\n",
    "    \n",
    "    if not os.path.exists(cookies_file):\n",
    "        print(f\"未找到 {cookies_file}，尝试重新生成...\")\n",
    "        cookies_file = get_youtube_cookies(output_dir)\n",
    "    \n",
    "    # Use index and title for filename\n",
    "    filename_template = os.path.join(output_dir, f\"{index:03d}|%(title)s.%(ext)s\")\n",
    "    ydl_opts = {\n",
    "        'format': 'bestvideo+bestaudio',\n",
    "        'merge_output_format': 'mp4',\n",
    "        'outtmpl': filename_template,\n",
    "        'cookies': cookies_file,\n",
    "        'quiet': True,\n",
    "        'retries': 10,\n",
    "        'fragment_retries': 10,\n",
    "        'postprocessors': [{\n",
    "            'key': 'FFmpegVideoConvertor',\n",
    "            'preferedformat': 'mp4',\n",
    "        }],\n",
    "        'postprocessor_args': [\n",
    "            '-c:v', 'copy',\n",
    "            '-c:a', 'aac',\n",
    "            '-b:a', '192k',\n",
    "        ],\n",
    "    }\n",
    "    \n",
    "    with yt_dlp.YoutubeDL(ydl_opts) as ydl:\n",
    "        for attempt in range(max_retries):\n",
    "            if not check_network():\n",
    "                print(f\"网络不可用，请检查连接。等待 10 秒后重试 (尝试 {attempt + 1}/{max_retries})...\")\n",
    "                time.sleep(10)\n",
    "                continue\n",
    "            \n",
    "            try:\n",
    "                print(f\"开始下载视频: {video_url} (尝试 {attempt + 1}/{max_retries})\")\n",
    "                info = ydl.extract_info(video_url, download=False)\n",
    "                \n",
    "                # Use pre-fetched title if available, otherwise fetch from info\n",
    "                original_title = video_title if video_title else info.get('title', 'N/A')\n",
    "                if video_exists(original_title, output_dir):\n",
    "                    print(f\"视频 '{original_title}' 已存在，跳过下载\")\n",
    "                    return None\n",
    "                \n",
    "                ydl.download([video_url])\n",
    "                \n",
    "                chinese_title = translator.translate(original_title, dest='zh-cn').text\n",
    "                language = info.get('language', 'N/A')\n",
    "                resolution = info.get('resolution', 'N/A') or f\"{info.get('height', 'N/A')}p\"\n",
    "                format_type = 'mp4'\n",
    "                upload_date = info.get('upload_date', 'N/A')\n",
    "                if upload_date != 'N/A':\n",
    "                    upload_date = datetime.strptime(upload_date, '%Y%m%d').strftime('%Y-%m-%d')\n",
    "                uploader = info.get('uploader', 'N/A')\n",
    "                \n",
    "                return {\n",
    "                    '原标题': original_title,\n",
    "                    '中文标题': chinese_title,\n",
    "                    '语言': language,\n",
    "                    '分辨率': resolution,\n",
    "                    '格式': format_type,\n",
    "                    '发布日期': upload_date,\n",
    "                    '来源': uploader\n",
    "                }\n",
    "            except (yt_dlp.utils.ExtractorError, yt_dlp.utils.DownloadError) as e:\n",
    "                print(f\"下载 {video_url} 失败: {str(e)}\")\n",
    "                if attempt < max_retries - 1:\n",
    "                    print(f\"等待 5 秒后重试...\")\n",
    "                    time.sleep(5)\n",
    "                else:\n",
    "                    print(f\"达到最大重试次数 ({max_retries})，跳过视频 {video_url}\")\n",
    "                    return None\n",
    "\n",
    "# 追加写入 CSV 文件并打印内容\n",
    "def append_to_csv(video_info, csv_output):\n",
    "    output_dir = os.path.dirname(csv_output)\n",
    "    if not os.path.exists(output_dir):\n",
    "        os.makedirs(output_dir)\n",
    "    \n",
    "    file_exists = os.path.exists(csv_output)\n",
    "    \n",
    "    with open(csv_output, 'a', newline='', encoding='utf-8-sig') as csvfile:\n",
    "        fieldnames = ['原标题', '中文标题', '语言', '分辨率', '格式', '发布日期', '来源']\n",
    "        writer = csv.DictWriter(csvfile, fieldnames=fieldnames)\n",
    "        \n",
    "        if not file_exists:\n",
    "            writer.writeheader()\n",
    "        \n",
    "        writer.writerow(video_info)\n",
    "    \n",
    "    print(f\"\\n更新 CSV 文件: {csv_output}\")\n",
    "    df = pd.read_csv(csv_output, encoding='utf-8-sig')\n",
    "    print(df.to_string(index=False))\n",
    "    print(\"\\n\")\n",
    "\n",
    "# 处理中断信号\n",
    "def signal_handler(sig, frame, csv_output):\n",
    "    print(\"\\n收到中断信号（Ctrl+C），程序退出...\")\n",
    "    sys.exit(0)\n",
    "\n",
    "# 主函数\n",
    "def main(playlist_url, video_output_dir=\"D:/Videos\", csv_output=\"D:/Data/video_info.csv\"):\n",
    "    if not check_network():\n",
    "        print(\"网络不可用，请检查你的互联网连接后重试。\")\n",
    "        return\n",
    "    \n",
    "    cookies_file = get_youtube_cookies(video_output_dir)\n",
    "    video_urls = get_playlist_videos(playlist_url)\n",
    "    video_info_list = []\n",
    "    \n",
    "    signal.signal(signal.SIGINT, lambda sig, frame: signal_handler(sig, frame, csv_output))\n",
    "    \n",
    "    for index, (url, title) in enumerate(video_urls, start=1):  # Start index at 1\n",
    "        print(f\"处理视频 {index}: {url}\")\n",
    "        video_info = download_video_and_get_info(url, title, index, cookies_file, video_output_dir)\n",
    "        if video_info:\n",
    "            video_info_list.append(video_info)\n",
    "            append_to_csv(video_info, csv_output)\n",
    "\n"
   ]
  },
  {
   "cell_type": "code",
   "execution_count": 6,
   "metadata": {},
   "outputs": [
    {
     "name": "stdout",
     "output_type": "stream",
     "text": [
      "处理视频 1: https://www.youtube.com/watch?v=DVPxMeQcntw\n",
      "开始下载视频: https://www.youtube.com/watch?v=DVPxMeQcntw (尝试 1/3)\n",
      "                                                            \n",
      "更新 CSV 文件: D:/Data/video_info.csv\n",
      "                                                                                              原标题                              中文标题 语言       分辨率  格式       发布日期         来源\n",
      "Israel Hezbollah War LIVE | UN Security Council Meets In Emergency Session Over Lebanon Explosion 以色列真主党战争现场直播|联合国安理会在黎巴嫩爆炸的紧急会议上开会 en 1920x1080 mp4 2024-09-21 CNN-News18\n",
      "\n",
      "\n",
      "处理视频 2: https://www.youtube.com/watch?v=S2S29QWK4vk\n",
      "开始下载视频: https://www.youtube.com/watch?v=S2S29QWK4vk (尝试 1/3)\n",
      "                                                            \n",
      "更新 CSV 文件: D:/Data/video_info.csv\n",
      "                                                                                                原标题                                     中文标题 语言       分辨率  格式       发布日期         来源\n",
      "  Israel Hezbollah War LIVE | UN Security Council Meets In Emergency Session Over Lebanon Explosion        以色列真主党战争现场直播|联合国安理会在黎巴嫩爆炸的紧急会议上开会 en 1920x1080 mp4 2024-09-21 CNN-News18\n",
      "Lebanon Explosion LIVE | Pagers Explode Across Lebanon in Attack Targeting Hezbollah Members | N18G 黎巴嫩爆炸现场| Pagers在袭击以真主党成员的攻击中爆炸了黎巴嫩| N18G en 1920x1080 mp4 2024-09-19 CNN-News18\n",
      "\n",
      "\n",
      "处理视频 3: https://www.youtube.com/watch?v=_UbDqPQtSxA\n",
      "开始下载视频: https://www.youtube.com/watch?v=_UbDqPQtSxA (尝试 1/3)\n",
      "                                                            \n",
      "更新 CSV 文件: D:/Data/video_info.csv\n",
      "                                                                                                原标题                                     中文标题 语言       分辨率  格式       发布日期         来源\n",
      "  Israel Hezbollah War LIVE | UN Security Council Meets In Emergency Session Over Lebanon Explosion        以色列真主党战争现场直播|联合国安理会在黎巴嫩爆炸的紧急会议上开会 en 1920x1080 mp4 2024-09-21 CNN-News18\n",
      "Lebanon Explosion LIVE | Pagers Explode Across Lebanon in Attack Targeting Hezbollah Members | N18G 黎巴嫩爆炸现场| Pagers在袭击以真主党成员的攻击中爆炸了黎巴嫩| N18G en 1920x1080 mp4 2024-09-19 CNN-News18\n",
      "    The Curtain Comes Down On The Paralympic Games With A Rainy Electro Party | N18G | English News             窗帘在残奥会上与多雨的电派对下来| N18G |英语新闻 fr 1920x1080 mp4 2024-09-09 CNN-News18\n",
      "\n",
      "\n",
      "处理视频 4: https://www.youtube.com/watch?v=Xoc7ULxAB2I\n",
      "开始下载视频: https://www.youtube.com/watch?v=Xoc7ULxAB2I (尝试 1/3)\n",
      "                                                            \n",
      "更新 CSV 文件: D:/Data/video_info.csv\n",
      "                                                                                                原标题                                      中文标题  语言       分辨率  格式       发布日期         来源\n",
      "  Israel Hezbollah War LIVE | UN Security Council Meets In Emergency Session Over Lebanon Explosion         以色列真主党战争现场直播|联合国安理会在黎巴嫩爆炸的紧急会议上开会  en 1920x1080 mp4 2024-09-21 CNN-News18\n",
      "Lebanon Explosion LIVE | Pagers Explode Across Lebanon in Attack Targeting Hezbollah Members | N18G  黎巴嫩爆炸现场| Pagers在袭击以真主党成员的攻击中爆炸了黎巴嫩| N18G  en 1920x1080 mp4 2024-09-19 CNN-News18\n",
      "    The Curtain Comes Down On The Paralympic Games With A Rainy Electro Party | N18G | English News              窗帘在残奥会上与多雨的电派对下来| N18G |英语新闻  fr 1920x1080 mp4 2024-09-09 CNN-News18\n",
      "Vinesh Phogat India Arrival Live: Wrestler Returns To Country After Paris Olympics Heartbreak |N18L Vinesh Phogat印度到达现场：摔跤手在巴黎奥运会之后返回国家| N18L NaN 1920x1080 mp4 2024-08-17 CNN-News18\n",
      "\n",
      "\n",
      "处理视频 5: https://www.youtube.com/watch?v=A6wLh-YaKM0\n",
      "开始下载视频: https://www.youtube.com/watch?v=A6wLh-YaKM0 (尝试 1/3)\n",
      "                                                            \n",
      "更新 CSV 文件: D:/Data/video_info.csv\n",
      "                                                                                                 原标题                                                       中文标题  语言       分辨率  格式       发布日期         来源\n",
      "   Israel Hezbollah War LIVE | UN Security Council Meets In Emergency Session Over Lebanon Explosion                          以色列真主党战争现场直播|联合国安理会在黎巴嫩爆炸的紧急会议上开会  en 1920x1080 mp4 2024-09-21 CNN-News18\n",
      " Lebanon Explosion LIVE | Pagers Explode Across Lebanon in Attack Targeting Hezbollah Members | N18G                   黎巴嫩爆炸现场| Pagers在袭击以真主党成员的攻击中爆炸了黎巴嫩| N18G  en 1920x1080 mp4 2024-09-19 CNN-News18\n",
      "     The Curtain Comes Down On The Paralympic Games With A Rainy Electro Party | N18G | English News                               窗帘在残奥会上与多雨的电派对下来| N18G |英语新闻  fr 1920x1080 mp4 2024-09-09 CNN-News18\n",
      " Vinesh Phogat India Arrival Live: Wrestler Returns To Country After Paris Olympics Heartbreak |N18L                  Vinesh Phogat印度到达现场：摔跤手在巴黎奥运会之后返回国家| N18L NaN 1920x1080 mp4 2024-08-17 CNN-News18\n",
      "Indian Wrestler Vinesh Phogat Returns To India Amidst Tight Security | Vinesh Phogat | N18V | News18 印度摔跤手Vinesh Phogat在紧密的安全性中返回印度| Vinesh Phogat | N18V |新闻18 NaN 1920x1080 mp4 2024-08-17 CNN-News18\n",
      "\n",
      "\n",
      "处理视频 6: https://www.youtube.com/watch?v=RhzcgL9cEjo\n",
      "开始下载视频: https://www.youtube.com/watch?v=RhzcgL9cEjo (尝试 1/3)\n"
     ]
    },
    {
     "name": "stderr",
     "output_type": "stream",
     "text": [
      "ERROR: [youtube] RhzcgL9cEjo: Requested format is not available. Use --list-formats for a list of available formats\n"
     ]
    },
    {
     "name": "stdout",
     "output_type": "stream",
     "text": [
      "下载 https://www.youtube.com/watch?v=RhzcgL9cEjo 失败: ERROR: [youtube] RhzcgL9cEjo: Requested format is not available. Use --list-formats for a list of available formats\n",
      "等待 5 秒后重试...\n",
      "开始下载视频: https://www.youtube.com/watch?v=RhzcgL9cEjo (尝试 2/3)\n"
     ]
    },
    {
     "name": "stderr",
     "output_type": "stream",
     "text": [
      "ERROR: [youtube] RhzcgL9cEjo: Sign in to confirm you’re not a bot. Use --cookies-from-browser or --cookies for the authentication. See  https://github.com/yt-dlp/yt-dlp/wiki/FAQ#how-do-i-pass-cookies-to-yt-dlp  for how to manually pass cookies. Also see  https://github.com/yt-dlp/yt-dlp/wiki/Extractors#exporting-youtube-cookies  for tips on effectively exporting YouTube cookies\n"
     ]
    },
    {
     "name": "stdout",
     "output_type": "stream",
     "text": [
      "下载 https://www.youtube.com/watch?v=RhzcgL9cEjo 失败: ERROR: [youtube] RhzcgL9cEjo: Sign in to confirm you’re not a bot. Use --cookies-from-browser or --cookies for the authentication. See  https://github.com/yt-dlp/yt-dlp/wiki/FAQ#how-do-i-pass-cookies-to-yt-dlp  for how to manually pass cookies. Also see  https://github.com/yt-dlp/yt-dlp/wiki/Extractors#exporting-youtube-cookies  for tips on effectively exporting YouTube cookies\n",
      "等待 5 秒后重试...\n",
      "开始下载视频: https://www.youtube.com/watch?v=RhzcgL9cEjo (尝试 3/3)\n"
     ]
    },
    {
     "name": "stderr",
     "output_type": "stream",
     "text": [
      "ERROR: [youtube] RhzcgL9cEjo: Sign in to confirm you’re not a bot. Use --cookies-from-browser or --cookies for the authentication. See  https://github.com/yt-dlp/yt-dlp/wiki/FAQ#how-do-i-pass-cookies-to-yt-dlp  for how to manually pass cookies. Also see  https://github.com/yt-dlp/yt-dlp/wiki/Extractors#exporting-youtube-cookies  for tips on effectively exporting YouTube cookies\n"
     ]
    },
    {
     "name": "stdout",
     "output_type": "stream",
     "text": [
      "下载 https://www.youtube.com/watch?v=RhzcgL9cEjo 失败: ERROR: [youtube] RhzcgL9cEjo: Sign in to confirm you’re not a bot. Use --cookies-from-browser or --cookies for the authentication. See  https://github.com/yt-dlp/yt-dlp/wiki/FAQ#how-do-i-pass-cookies-to-yt-dlp  for how to manually pass cookies. Also see  https://github.com/yt-dlp/yt-dlp/wiki/Extractors#exporting-youtube-cookies  for tips on effectively exporting YouTube cookies\n",
      "达到最大重试次数 (3)，跳过视频 https://www.youtube.com/watch?v=RhzcgL9cEjo\n",
      "处理视频 7: https://www.youtube.com/watch?v=6EL8Wn3eIRQ\n",
      "开始下载视频: https://www.youtube.com/watch?v=6EL8Wn3eIRQ (尝试 1/3)\n"
     ]
    },
    {
     "name": "stderr",
     "output_type": "stream",
     "text": [
      "ERROR: [youtube] 6EL8Wn3eIRQ: Sign in to confirm you’re not a bot. Use --cookies-from-browser or --cookies for the authentication. See  https://github.com/yt-dlp/yt-dlp/wiki/FAQ#how-do-i-pass-cookies-to-yt-dlp  for how to manually pass cookies. Also see  https://github.com/yt-dlp/yt-dlp/wiki/Extractors#exporting-youtube-cookies  for tips on effectively exporting YouTube cookies\n"
     ]
    },
    {
     "name": "stdout",
     "output_type": "stream",
     "text": [
      "下载 https://www.youtube.com/watch?v=6EL8Wn3eIRQ 失败: ERROR: [youtube] 6EL8Wn3eIRQ: Sign in to confirm you’re not a bot. Use --cookies-from-browser or --cookies for the authentication. See  https://github.com/yt-dlp/yt-dlp/wiki/FAQ#how-do-i-pass-cookies-to-yt-dlp  for how to manually pass cookies. Also see  https://github.com/yt-dlp/yt-dlp/wiki/Extractors#exporting-youtube-cookies  for tips on effectively exporting YouTube cookies\n",
      "等待 5 秒后重试...\n",
      "开始下载视频: https://www.youtube.com/watch?v=6EL8Wn3eIRQ (尝试 2/3)\n"
     ]
    },
    {
     "name": "stderr",
     "output_type": "stream",
     "text": [
      "ERROR: [youtube] 6EL8Wn3eIRQ: Sign in to confirm you’re not a bot. Use --cookies-from-browser or --cookies for the authentication. See  https://github.com/yt-dlp/yt-dlp/wiki/FAQ#how-do-i-pass-cookies-to-yt-dlp  for how to manually pass cookies. Also see  https://github.com/yt-dlp/yt-dlp/wiki/Extractors#exporting-youtube-cookies  for tips on effectively exporting YouTube cookies\n"
     ]
    },
    {
     "name": "stdout",
     "output_type": "stream",
     "text": [
      "下载 https://www.youtube.com/watch?v=6EL8Wn3eIRQ 失败: ERROR: [youtube] 6EL8Wn3eIRQ: Sign in to confirm you’re not a bot. Use --cookies-from-browser or --cookies for the authentication. See  https://github.com/yt-dlp/yt-dlp/wiki/FAQ#how-do-i-pass-cookies-to-yt-dlp  for how to manually pass cookies. Also see  https://github.com/yt-dlp/yt-dlp/wiki/Extractors#exporting-youtube-cookies  for tips on effectively exporting YouTube cookies\n",
      "等待 5 秒后重试...\n",
      "开始下载视频: https://www.youtube.com/watch?v=6EL8Wn3eIRQ (尝试 3/3)\n"
     ]
    },
    {
     "name": "stderr",
     "output_type": "stream",
     "text": [
      "ERROR: [youtube] 6EL8Wn3eIRQ: Sign in to confirm you’re not a bot. Use --cookies-from-browser or --cookies for the authentication. See  https://github.com/yt-dlp/yt-dlp/wiki/FAQ#how-do-i-pass-cookies-to-yt-dlp  for how to manually pass cookies. Also see  https://github.com/yt-dlp/yt-dlp/wiki/Extractors#exporting-youtube-cookies  for tips on effectively exporting YouTube cookies\n"
     ]
    },
    {
     "name": "stdout",
     "output_type": "stream",
     "text": [
      "下载 https://www.youtube.com/watch?v=6EL8Wn3eIRQ 失败: ERROR: [youtube] 6EL8Wn3eIRQ: Sign in to confirm you’re not a bot. Use --cookies-from-browser or --cookies for the authentication. See  https://github.com/yt-dlp/yt-dlp/wiki/FAQ#how-do-i-pass-cookies-to-yt-dlp  for how to manually pass cookies. Also see  https://github.com/yt-dlp/yt-dlp/wiki/Extractors#exporting-youtube-cookies  for tips on effectively exporting YouTube cookies\n",
      "达到最大重试次数 (3)，跳过视频 https://www.youtube.com/watch?v=6EL8Wn3eIRQ\n",
      "处理视频 8: https://www.youtube.com/watch?v=a1aoHRFJ3EE\n",
      "开始下载视频: https://www.youtube.com/watch?v=a1aoHRFJ3EE (尝试 1/3)\n"
     ]
    },
    {
     "name": "stderr",
     "output_type": "stream",
     "text": [
      "ERROR: [youtube] a1aoHRFJ3EE: Sign in to confirm you’re not a bot. Use --cookies-from-browser or --cookies for the authentication. See  https://github.com/yt-dlp/yt-dlp/wiki/FAQ#how-do-i-pass-cookies-to-yt-dlp  for how to manually pass cookies. Also see  https://github.com/yt-dlp/yt-dlp/wiki/Extractors#exporting-youtube-cookies  for tips on effectively exporting YouTube cookies\n"
     ]
    },
    {
     "name": "stdout",
     "output_type": "stream",
     "text": [
      "下载 https://www.youtube.com/watch?v=a1aoHRFJ3EE 失败: ERROR: [youtube] a1aoHRFJ3EE: Sign in to confirm you’re not a bot. Use --cookies-from-browser or --cookies for the authentication. See  https://github.com/yt-dlp/yt-dlp/wiki/FAQ#how-do-i-pass-cookies-to-yt-dlp  for how to manually pass cookies. Also see  https://github.com/yt-dlp/yt-dlp/wiki/Extractors#exporting-youtube-cookies  for tips on effectively exporting YouTube cookies\n",
      "等待 5 秒后重试...\n",
      "开始下载视频: https://www.youtube.com/watch?v=a1aoHRFJ3EE (尝试 2/3)\n"
     ]
    },
    {
     "name": "stderr",
     "output_type": "stream",
     "text": [
      "ERROR: [youtube] a1aoHRFJ3EE: Requested format is not available. Use --list-formats for a list of available formats\n"
     ]
    },
    {
     "name": "stdout",
     "output_type": "stream",
     "text": [
      "下载 https://www.youtube.com/watch?v=a1aoHRFJ3EE 失败: ERROR: [youtube] a1aoHRFJ3EE: Requested format is not available. Use --list-formats for a list of available formats\n",
      "等待 5 秒后重试...\n",
      "开始下载视频: https://www.youtube.com/watch?v=a1aoHRFJ3EE (尝试 3/3)\n"
     ]
    },
    {
     "name": "stderr",
     "output_type": "stream",
     "text": [
      "ERROR: [youtube] a1aoHRFJ3EE: Requested format is not available. Use --list-formats for a list of available formats\n"
     ]
    },
    {
     "name": "stdout",
     "output_type": "stream",
     "text": [
      "下载 https://www.youtube.com/watch?v=a1aoHRFJ3EE 失败: ERROR: [youtube] a1aoHRFJ3EE: Requested format is not available. Use --list-formats for a list of available formats\n",
      "达到最大重试次数 (3)，跳过视频 https://www.youtube.com/watch?v=a1aoHRFJ3EE\n",
      "处理视频 9: https://www.youtube.com/watch?v=je2jcU8-Q-s\n",
      "开始下载视频: https://www.youtube.com/watch?v=je2jcU8-Q-s (尝试 1/3)\n"
     ]
    },
    {
     "name": "stderr",
     "output_type": "stream",
     "text": [
      "ERROR: [youtube] je2jcU8-Q-s: Sign in to confirm you’re not a bot. Use --cookies-from-browser or --cookies for the authentication. See  https://github.com/yt-dlp/yt-dlp/wiki/FAQ#how-do-i-pass-cookies-to-yt-dlp  for how to manually pass cookies. Also see  https://github.com/yt-dlp/yt-dlp/wiki/Extractors#exporting-youtube-cookies  for tips on effectively exporting YouTube cookies\n"
     ]
    },
    {
     "name": "stdout",
     "output_type": "stream",
     "text": [
      "下载 https://www.youtube.com/watch?v=je2jcU8-Q-s 失败: ERROR: [youtube] je2jcU8-Q-s: Sign in to confirm you’re not a bot. Use --cookies-from-browser or --cookies for the authentication. See  https://github.com/yt-dlp/yt-dlp/wiki/FAQ#how-do-i-pass-cookies-to-yt-dlp  for how to manually pass cookies. Also see  https://github.com/yt-dlp/yt-dlp/wiki/Extractors#exporting-youtube-cookies  for tips on effectively exporting YouTube cookies\n",
      "等待 5 秒后重试...\n",
      "开始下载视频: https://www.youtube.com/watch?v=je2jcU8-Q-s (尝试 2/3)\n"
     ]
    },
    {
     "name": "stderr",
     "output_type": "stream",
     "text": [
      "ERROR: [youtube] je2jcU8-Q-s: Sign in to confirm you’re not a bot. Use --cookies-from-browser or --cookies for the authentication. See  https://github.com/yt-dlp/yt-dlp/wiki/FAQ#how-do-i-pass-cookies-to-yt-dlp  for how to manually pass cookies. Also see  https://github.com/yt-dlp/yt-dlp/wiki/Extractors#exporting-youtube-cookies  for tips on effectively exporting YouTube cookies\n"
     ]
    },
    {
     "name": "stdout",
     "output_type": "stream",
     "text": [
      "下载 https://www.youtube.com/watch?v=je2jcU8-Q-s 失败: ERROR: [youtube] je2jcU8-Q-s: Sign in to confirm you’re not a bot. Use --cookies-from-browser or --cookies for the authentication. See  https://github.com/yt-dlp/yt-dlp/wiki/FAQ#how-do-i-pass-cookies-to-yt-dlp  for how to manually pass cookies. Also see  https://github.com/yt-dlp/yt-dlp/wiki/Extractors#exporting-youtube-cookies  for tips on effectively exporting YouTube cookies\n",
      "等待 5 秒后重试...\n",
      "开始下载视频: https://www.youtube.com/watch?v=je2jcU8-Q-s (尝试 3/3)\n"
     ]
    },
    {
     "name": "stderr",
     "output_type": "stream",
     "text": [
      "ERROR: [youtube] je2jcU8-Q-s: Sign in to confirm you’re not a bot. Use --cookies-from-browser or --cookies for the authentication. See  https://github.com/yt-dlp/yt-dlp/wiki/FAQ#how-do-i-pass-cookies-to-yt-dlp  for how to manually pass cookies. Also see  https://github.com/yt-dlp/yt-dlp/wiki/Extractors#exporting-youtube-cookies  for tips on effectively exporting YouTube cookies\n"
     ]
    },
    {
     "name": "stdout",
     "output_type": "stream",
     "text": [
      "下载 https://www.youtube.com/watch?v=je2jcU8-Q-s 失败: ERROR: [youtube] je2jcU8-Q-s: Sign in to confirm you’re not a bot. Use --cookies-from-browser or --cookies for the authentication. See  https://github.com/yt-dlp/yt-dlp/wiki/FAQ#how-do-i-pass-cookies-to-yt-dlp  for how to manually pass cookies. Also see  https://github.com/yt-dlp/yt-dlp/wiki/Extractors#exporting-youtube-cookies  for tips on effectively exporting YouTube cookies\n",
      "达到最大重试次数 (3)，跳过视频 https://www.youtube.com/watch?v=je2jcU8-Q-s\n",
      "处理视频 10: https://www.youtube.com/watch?v=eCmT2yk_KpM\n",
      "开始下载视频: https://www.youtube.com/watch?v=eCmT2yk_KpM (尝试 1/3)\n",
      "                                                            \n",
      "更新 CSV 文件: D:/Data/video_info.csv\n",
      "                                                                                                 原标题                                                            中文标题  语言       分辨率  格式       发布日期         来源\n",
      "   Israel Hezbollah War LIVE | UN Security Council Meets In Emergency Session Over Lebanon Explosion                               以色列真主党战争现场直播|联合国安理会在黎巴嫩爆炸的紧急会议上开会  en 1920x1080 mp4 2024-09-21 CNN-News18\n",
      " Lebanon Explosion LIVE | Pagers Explode Across Lebanon in Attack Targeting Hezbollah Members | N18G                        黎巴嫩爆炸现场| Pagers在袭击以真主党成员的攻击中爆炸了黎巴嫩| N18G  en 1920x1080 mp4 2024-09-19 CNN-News18\n",
      "     The Curtain Comes Down On The Paralympic Games With A Rainy Electro Party | N18G | English News                                    窗帘在残奥会上与多雨的电派对下来| N18G |英语新闻  fr 1920x1080 mp4 2024-09-09 CNN-News18\n",
      " Vinesh Phogat India Arrival Live: Wrestler Returns To Country After Paris Olympics Heartbreak |N18L                       Vinesh Phogat印度到达现场：摔跤手在巴黎奥运会之后返回国家| N18L NaN 1920x1080 mp4 2024-08-17 CNN-News18\n",
      "Indian Wrestler Vinesh Phogat Returns To India Amidst Tight Security | Vinesh Phogat | N18V | News18      印度摔跤手Vinesh Phogat在紧密的安全性中返回印度| Vinesh Phogat | N18V |新闻18 NaN 1920x1080 mp4 2024-08-17 CNN-News18\n",
      "  Vinesh Phogat CAS Appeal | Vinesh Phogat CAS Verdict On Silver Medal Delayed Till August 16 | N18G Vinesh Phogat CAS上诉| Vinesh Phogat CAS CAS关于银牌的判决推迟到8月16日| N18G  en 1920x1080 mp4 2024-08-13 CNN-News18\n",
      "\n",
      "\n",
      "处理视频 11: https://www.youtube.com/watch?v=DawHL6ecHao\n",
      "开始下载视频: https://www.youtube.com/watch?v=DawHL6ecHao (尝试 1/3)\n",
      "                                                            \n",
      "更新 CSV 文件: D:/Data/video_info.csv\n",
      "                                                                                                 原标题                                                            中文标题  语言       分辨率  格式       发布日期         来源\n",
      "   Israel Hezbollah War LIVE | UN Security Council Meets In Emergency Session Over Lebanon Explosion                               以色列真主党战争现场直播|联合国安理会在黎巴嫩爆炸的紧急会议上开会  en 1920x1080 mp4 2024-09-21 CNN-News18\n",
      " Lebanon Explosion LIVE | Pagers Explode Across Lebanon in Attack Targeting Hezbollah Members | N18G                        黎巴嫩爆炸现场| Pagers在袭击以真主党成员的攻击中爆炸了黎巴嫩| N18G  en 1920x1080 mp4 2024-09-19 CNN-News18\n",
      "     The Curtain Comes Down On The Paralympic Games With A Rainy Electro Party | N18G | English News                                    窗帘在残奥会上与多雨的电派对下来| N18G |英语新闻  fr 1920x1080 mp4 2024-09-09 CNN-News18\n",
      " Vinesh Phogat India Arrival Live: Wrestler Returns To Country After Paris Olympics Heartbreak |N18L                       Vinesh Phogat印度到达现场：摔跤手在巴黎奥运会之后返回国家| N18L NaN 1920x1080 mp4 2024-08-17 CNN-News18\n",
      "Indian Wrestler Vinesh Phogat Returns To India Amidst Tight Security | Vinesh Phogat | N18V | News18      印度摔跤手Vinesh Phogat在紧密的安全性中返回印度| Vinesh Phogat | N18V |新闻18 NaN 1920x1080 mp4 2024-08-17 CNN-News18\n",
      "  Vinesh Phogat CAS Appeal | Vinesh Phogat CAS Verdict On Silver Medal Delayed Till August 16 | N18G Vinesh Phogat CAS上诉| Vinesh Phogat CAS CAS关于银牌的判决推迟到8月16日| N18G  en 1920x1080 mp4 2024-08-13 CNN-News18\n",
      "     Paris Olympics 2024 | Evolutionary Biologist Colin Wright Exclusive | Imane Khelif | Gender Row       巴黎奥运会2024 |进化生物学家科林·赖特（Colin Wright）独家| imane khelif |性别行  en  1280x720 mp4 2024-08-13 CNN-News18\n",
      "\n",
      "\n",
      "处理视频 12: https://www.youtube.com/watch?v=KdET1DrRIjk\n",
      "开始下载视频: https://www.youtube.com/watch?v=KdET1DrRIjk (尝试 1/3)\n"
     ]
    },
    {
     "name": "stderr",
     "output_type": "stream",
     "text": [
      "ERROR: [youtube] KdET1DrRIjk: Sign in to confirm you’re not a bot. Use --cookies-from-browser or --cookies for the authentication. See  https://github.com/yt-dlp/yt-dlp/wiki/FAQ#how-do-i-pass-cookies-to-yt-dlp  for how to manually pass cookies. Also see  https://github.com/yt-dlp/yt-dlp/wiki/Extractors#exporting-youtube-cookies  for tips on effectively exporting YouTube cookies\n"
     ]
    },
    {
     "name": "stdout",
     "output_type": "stream",
     "text": [
      "下载 https://www.youtube.com/watch?v=KdET1DrRIjk 失败: ERROR: [youtube] KdET1DrRIjk: Sign in to confirm you’re not a bot. Use --cookies-from-browser or --cookies for the authentication. See  https://github.com/yt-dlp/yt-dlp/wiki/FAQ#how-do-i-pass-cookies-to-yt-dlp  for how to manually pass cookies. Also see  https://github.com/yt-dlp/yt-dlp/wiki/Extractors#exporting-youtube-cookies  for tips on effectively exporting YouTube cookies\n",
      "等待 5 秒后重试...\n",
      "开始下载视频: https://www.youtube.com/watch?v=KdET1DrRIjk (尝试 2/3)\n"
     ]
    },
    {
     "name": "stderr",
     "output_type": "stream",
     "text": [
      "ERROR: [youtube] KdET1DrRIjk: Sign in to confirm you’re not a bot. Use --cookies-from-browser or --cookies for the authentication. See  https://github.com/yt-dlp/yt-dlp/wiki/FAQ#how-do-i-pass-cookies-to-yt-dlp  for how to manually pass cookies. Also see  https://github.com/yt-dlp/yt-dlp/wiki/Extractors#exporting-youtube-cookies  for tips on effectively exporting YouTube cookies\n"
     ]
    },
    {
     "name": "stdout",
     "output_type": "stream",
     "text": [
      "下载 https://www.youtube.com/watch?v=KdET1DrRIjk 失败: ERROR: [youtube] KdET1DrRIjk: Sign in to confirm you’re not a bot. Use --cookies-from-browser or --cookies for the authentication. See  https://github.com/yt-dlp/yt-dlp/wiki/FAQ#how-do-i-pass-cookies-to-yt-dlp  for how to manually pass cookies. Also see  https://github.com/yt-dlp/yt-dlp/wiki/Extractors#exporting-youtube-cookies  for tips on effectively exporting YouTube cookies\n",
      "等待 5 秒后重试...\n",
      "开始下载视频: https://www.youtube.com/watch?v=KdET1DrRIjk (尝试 3/3)\n"
     ]
    },
    {
     "name": "stderr",
     "output_type": "stream",
     "text": [
      "ERROR: [youtube] KdET1DrRIjk: Sign in to confirm you’re not a bot. Use --cookies-from-browser or --cookies for the authentication. See  https://github.com/yt-dlp/yt-dlp/wiki/FAQ#how-do-i-pass-cookies-to-yt-dlp  for how to manually pass cookies. Also see  https://github.com/yt-dlp/yt-dlp/wiki/Extractors#exporting-youtube-cookies  for tips on effectively exporting YouTube cookies\n"
     ]
    },
    {
     "name": "stdout",
     "output_type": "stream",
     "text": [
      "下载 https://www.youtube.com/watch?v=KdET1DrRIjk 失败: ERROR: [youtube] KdET1DrRIjk: Sign in to confirm you’re not a bot. Use --cookies-from-browser or --cookies for the authentication. See  https://github.com/yt-dlp/yt-dlp/wiki/FAQ#how-do-i-pass-cookies-to-yt-dlp  for how to manually pass cookies. Also see  https://github.com/yt-dlp/yt-dlp/wiki/Extractors#exporting-youtube-cookies  for tips on effectively exporting YouTube cookies\n",
      "达到最大重试次数 (3)，跳过视频 https://www.youtube.com/watch?v=KdET1DrRIjk\n",
      "处理视频 13: https://www.youtube.com/watch?v=MgoDtB3VcvQ\n",
      "开始下载视频: https://www.youtube.com/watch?v=MgoDtB3VcvQ (尝试 1/3)\n"
     ]
    },
    {
     "name": "stderr",
     "output_type": "stream",
     "text": [
      "ERROR: [youtube] MgoDtB3VcvQ: Sign in to confirm you’re not a bot. Use --cookies-from-browser or --cookies for the authentication. See  https://github.com/yt-dlp/yt-dlp/wiki/FAQ#how-do-i-pass-cookies-to-yt-dlp  for how to manually pass cookies. Also see  https://github.com/yt-dlp/yt-dlp/wiki/Extractors#exporting-youtube-cookies  for tips on effectively exporting YouTube cookies\n"
     ]
    },
    {
     "name": "stdout",
     "output_type": "stream",
     "text": [
      "下载 https://www.youtube.com/watch?v=MgoDtB3VcvQ 失败: ERROR: [youtube] MgoDtB3VcvQ: Sign in to confirm you’re not a bot. Use --cookies-from-browser or --cookies for the authentication. See  https://github.com/yt-dlp/yt-dlp/wiki/FAQ#how-do-i-pass-cookies-to-yt-dlp  for how to manually pass cookies. Also see  https://github.com/yt-dlp/yt-dlp/wiki/Extractors#exporting-youtube-cookies  for tips on effectively exporting YouTube cookies\n",
      "等待 5 秒后重试...\n",
      "开始下载视频: https://www.youtube.com/watch?v=MgoDtB3VcvQ (尝试 2/3)\n"
     ]
    },
    {
     "name": "stderr",
     "output_type": "stream",
     "text": [
      "ERROR: [youtube] MgoDtB3VcvQ: Sign in to confirm you’re not a bot. Use --cookies-from-browser or --cookies for the authentication. See  https://github.com/yt-dlp/yt-dlp/wiki/FAQ#how-do-i-pass-cookies-to-yt-dlp  for how to manually pass cookies. Also see  https://github.com/yt-dlp/yt-dlp/wiki/Extractors#exporting-youtube-cookies  for tips on effectively exporting YouTube cookies\n"
     ]
    },
    {
     "name": "stdout",
     "output_type": "stream",
     "text": [
      "下载 https://www.youtube.com/watch?v=MgoDtB3VcvQ 失败: ERROR: [youtube] MgoDtB3VcvQ: Sign in to confirm you’re not a bot. Use --cookies-from-browser or --cookies for the authentication. See  https://github.com/yt-dlp/yt-dlp/wiki/FAQ#how-do-i-pass-cookies-to-yt-dlp  for how to manually pass cookies. Also see  https://github.com/yt-dlp/yt-dlp/wiki/Extractors#exporting-youtube-cookies  for tips on effectively exporting YouTube cookies\n",
      "等待 5 秒后重试...\n",
      "开始下载视频: https://www.youtube.com/watch?v=MgoDtB3VcvQ (尝试 3/3)\n",
      "                                                            \n",
      "更新 CSV 文件: D:/Data/video_info.csv\n",
      "                                                                                                 原标题                                                            中文标题  语言       分辨率  格式       发布日期         来源\n",
      "   Israel Hezbollah War LIVE | UN Security Council Meets In Emergency Session Over Lebanon Explosion                               以色列真主党战争现场直播|联合国安理会在黎巴嫩爆炸的紧急会议上开会  en 1920x1080 mp4 2024-09-21 CNN-News18\n",
      " Lebanon Explosion LIVE | Pagers Explode Across Lebanon in Attack Targeting Hezbollah Members | N18G                        黎巴嫩爆炸现场| Pagers在袭击以真主党成员的攻击中爆炸了黎巴嫩| N18G  en 1920x1080 mp4 2024-09-19 CNN-News18\n",
      "     The Curtain Comes Down On The Paralympic Games With A Rainy Electro Party | N18G | English News                                    窗帘在残奥会上与多雨的电派对下来| N18G |英语新闻  fr 1920x1080 mp4 2024-09-09 CNN-News18\n",
      " Vinesh Phogat India Arrival Live: Wrestler Returns To Country After Paris Olympics Heartbreak |N18L                       Vinesh Phogat印度到达现场：摔跤手在巴黎奥运会之后返回国家| N18L NaN 1920x1080 mp4 2024-08-17 CNN-News18\n",
      "Indian Wrestler Vinesh Phogat Returns To India Amidst Tight Security | Vinesh Phogat | N18V | News18      印度摔跤手Vinesh Phogat在紧密的安全性中返回印度| Vinesh Phogat | N18V |新闻18 NaN 1920x1080 mp4 2024-08-17 CNN-News18\n",
      "  Vinesh Phogat CAS Appeal | Vinesh Phogat CAS Verdict On Silver Medal Delayed Till August 16 | N18G Vinesh Phogat CAS上诉| Vinesh Phogat CAS CAS关于银牌的判决推迟到8月16日| N18G  en 1920x1080 mp4 2024-08-13 CNN-News18\n",
      "     Paris Olympics 2024 | Evolutionary Biologist Colin Wright Exclusive | Imane Khelif | Gender Row       巴黎奥运会2024 |进化生物学家科林·赖特（Colin Wright）独家| imane khelif |性别行  en  1280x720 mp4 2024-08-13 CNN-News18\n",
      "        Los Angeles To Host 2028 Summer Olympic Games | Olympics 2028 | Sports | N18G | English News                         洛杉矶举办2028年夏季奥运会|奥运会2028 |运动| N18G |英语新闻  en 1920x1080 mp4 2024-08-13 CNN-News18\n",
      "\n",
      "\n",
      "处理视频 14: https://www.youtube.com/watch?v=_gzJXXfx8Ic\n",
      "开始下载视频: https://www.youtube.com/watch?v=_gzJXXfx8Ic (尝试 1/3)\n"
     ]
    },
    {
     "name": "stderr",
     "output_type": "stream",
     "text": [
      "ERROR: [youtube] _gzJXXfx8Ic: Requested format is not available. Use --list-formats for a list of available formats\n"
     ]
    },
    {
     "name": "stdout",
     "output_type": "stream",
     "text": [
      "下载 https://www.youtube.com/watch?v=_gzJXXfx8Ic 失败: ERROR: [youtube] _gzJXXfx8Ic: Requested format is not available. Use --list-formats for a list of available formats\n",
      "等待 5 秒后重试...\n",
      "开始下载视频: https://www.youtube.com/watch?v=_gzJXXfx8Ic (尝试 2/3)\n"
     ]
    },
    {
     "name": "stderr",
     "output_type": "stream",
     "text": [
      "ERROR: [youtube] _gzJXXfx8Ic: Sign in to confirm you’re not a bot. Use --cookies-from-browser or --cookies for the authentication. See  https://github.com/yt-dlp/yt-dlp/wiki/FAQ#how-do-i-pass-cookies-to-yt-dlp  for how to manually pass cookies. Also see  https://github.com/yt-dlp/yt-dlp/wiki/Extractors#exporting-youtube-cookies  for tips on effectively exporting YouTube cookies\n"
     ]
    },
    {
     "name": "stdout",
     "output_type": "stream",
     "text": [
      "下载 https://www.youtube.com/watch?v=_gzJXXfx8Ic 失败: ERROR: [youtube] _gzJXXfx8Ic: Sign in to confirm you’re not a bot. Use --cookies-from-browser or --cookies for the authentication. See  https://github.com/yt-dlp/yt-dlp/wiki/FAQ#how-do-i-pass-cookies-to-yt-dlp  for how to manually pass cookies. Also see  https://github.com/yt-dlp/yt-dlp/wiki/Extractors#exporting-youtube-cookies  for tips on effectively exporting YouTube cookies\n",
      "等待 5 秒后重试...\n",
      "开始下载视频: https://www.youtube.com/watch?v=_gzJXXfx8Ic (尝试 3/3)\n"
     ]
    },
    {
     "name": "stderr",
     "output_type": "stream",
     "text": [
      "ERROR: [youtube] _gzJXXfx8Ic: Sign in to confirm you’re not a bot. Use --cookies-from-browser or --cookies for the authentication. See  https://github.com/yt-dlp/yt-dlp/wiki/FAQ#how-do-i-pass-cookies-to-yt-dlp  for how to manually pass cookies. Also see  https://github.com/yt-dlp/yt-dlp/wiki/Extractors#exporting-youtube-cookies  for tips on effectively exporting YouTube cookies\n"
     ]
    },
    {
     "name": "stdout",
     "output_type": "stream",
     "text": [
      "下载 https://www.youtube.com/watch?v=_gzJXXfx8Ic 失败: ERROR: [youtube] _gzJXXfx8Ic: Sign in to confirm you’re not a bot. Use --cookies-from-browser or --cookies for the authentication. See  https://github.com/yt-dlp/yt-dlp/wiki/FAQ#how-do-i-pass-cookies-to-yt-dlp  for how to manually pass cookies. Also see  https://github.com/yt-dlp/yt-dlp/wiki/Extractors#exporting-youtube-cookies  for tips on effectively exporting YouTube cookies\n",
      "达到最大重试次数 (3)，跳过视频 https://www.youtube.com/watch?v=_gzJXXfx8Ic\n",
      "处理视频 15: https://www.youtube.com/watch?v=Hg-cz1o2txI\n",
      "开始下载视频: https://www.youtube.com/watch?v=Hg-cz1o2txI (尝试 1/3)\n",
      "                                                            \n",
      "更新 CSV 文件: D:/Data/video_info.csv\n",
      "                                                                                                 原标题                                                            中文标题  语言       分辨率  格式       发布日期         来源\n",
      "   Israel Hezbollah War LIVE | UN Security Council Meets In Emergency Session Over Lebanon Explosion                               以色列真主党战争现场直播|联合国安理会在黎巴嫩爆炸的紧急会议上开会  en 1920x1080 mp4 2024-09-21 CNN-News18\n",
      " Lebanon Explosion LIVE | Pagers Explode Across Lebanon in Attack Targeting Hezbollah Members | N18G                        黎巴嫩爆炸现场| Pagers在袭击以真主党成员的攻击中爆炸了黎巴嫩| N18G  en 1920x1080 mp4 2024-09-19 CNN-News18\n",
      "     The Curtain Comes Down On The Paralympic Games With A Rainy Electro Party | N18G | English News                                    窗帘在残奥会上与多雨的电派对下来| N18G |英语新闻  fr 1920x1080 mp4 2024-09-09 CNN-News18\n",
      " Vinesh Phogat India Arrival Live: Wrestler Returns To Country After Paris Olympics Heartbreak |N18L                       Vinesh Phogat印度到达现场：摔跤手在巴黎奥运会之后返回国家| N18L NaN 1920x1080 mp4 2024-08-17 CNN-News18\n",
      "Indian Wrestler Vinesh Phogat Returns To India Amidst Tight Security | Vinesh Phogat | N18V | News18      印度摔跤手Vinesh Phogat在紧密的安全性中返回印度| Vinesh Phogat | N18V |新闻18 NaN 1920x1080 mp4 2024-08-17 CNN-News18\n",
      "  Vinesh Phogat CAS Appeal | Vinesh Phogat CAS Verdict On Silver Medal Delayed Till August 16 | N18G Vinesh Phogat CAS上诉| Vinesh Phogat CAS CAS关于银牌的判决推迟到8月16日| N18G  en 1920x1080 mp4 2024-08-13 CNN-News18\n",
      "     Paris Olympics 2024 | Evolutionary Biologist Colin Wright Exclusive | Imane Khelif | Gender Row       巴黎奥运会2024 |进化生物学家科林·赖特（Colin Wright）独家| imane khelif |性别行  en  1280x720 mp4 2024-08-13 CNN-News18\n",
      "        Los Angeles To Host 2028 Summer Olympic Games | Olympics 2028 | Sports | N18G | English News                         洛杉矶举办2028年夏季奥运会|奥运会2028 |运动| N18G |英语新闻  en 1920x1080 mp4 2024-08-13 CNN-News18\n",
      "         Paris Olympics | Are Indian Athletes Pampered? JSW Sports' Manisha Says Toughen Up | News18                    巴黎奥运会|印度运动员受到宠爱吗？ JSW Sports的Manisha说强壮|新闻18  hi 1920x1080 mp4 2024-08-12 CNN-News18\n",
      "\n",
      "\n",
      "处理视频 16: https://www.youtube.com/watch?v=ERamVI7PhWg\n",
      "开始下载视频: https://www.youtube.com/watch?v=ERamVI7PhWg (尝试 1/3)\n"
     ]
    },
    {
     "name": "stderr",
     "output_type": "stream",
     "text": [
      "ERROR: [youtube] ERamVI7PhWg: Sign in to confirm you’re not a bot. Use --cookies-from-browser or --cookies for the authentication. See  https://github.com/yt-dlp/yt-dlp/wiki/FAQ#how-do-i-pass-cookies-to-yt-dlp  for how to manually pass cookies. Also see  https://github.com/yt-dlp/yt-dlp/wiki/Extractors#exporting-youtube-cookies  for tips on effectively exporting YouTube cookies\n"
     ]
    },
    {
     "name": "stdout",
     "output_type": "stream",
     "text": [
      "下载 https://www.youtube.com/watch?v=ERamVI7PhWg 失败: ERROR: [youtube] ERamVI7PhWg: Sign in to confirm you’re not a bot. Use --cookies-from-browser or --cookies for the authentication. See  https://github.com/yt-dlp/yt-dlp/wiki/FAQ#how-do-i-pass-cookies-to-yt-dlp  for how to manually pass cookies. Also see  https://github.com/yt-dlp/yt-dlp/wiki/Extractors#exporting-youtube-cookies  for tips on effectively exporting YouTube cookies\n",
      "等待 5 秒后重试...\n",
      "开始下载视频: https://www.youtube.com/watch?v=ERamVI7PhWg (尝试 2/3)\n"
     ]
    },
    {
     "name": "stderr",
     "output_type": "stream",
     "text": [
      "ERROR: [youtube] ERamVI7PhWg: Sign in to confirm you’re not a bot. Use --cookies-from-browser or --cookies for the authentication. See  https://github.com/yt-dlp/yt-dlp/wiki/FAQ#how-do-i-pass-cookies-to-yt-dlp  for how to manually pass cookies. Also see  https://github.com/yt-dlp/yt-dlp/wiki/Extractors#exporting-youtube-cookies  for tips on effectively exporting YouTube cookies\n"
     ]
    },
    {
     "name": "stdout",
     "output_type": "stream",
     "text": [
      "下载 https://www.youtube.com/watch?v=ERamVI7PhWg 失败: ERROR: [youtube] ERamVI7PhWg: Sign in to confirm you’re not a bot. Use --cookies-from-browser or --cookies for the authentication. See  https://github.com/yt-dlp/yt-dlp/wiki/FAQ#how-do-i-pass-cookies-to-yt-dlp  for how to manually pass cookies. Also see  https://github.com/yt-dlp/yt-dlp/wiki/Extractors#exporting-youtube-cookies  for tips on effectively exporting YouTube cookies\n",
      "等待 5 秒后重试...\n",
      "开始下载视频: https://www.youtube.com/watch?v=ERamVI7PhWg (尝试 3/3)\n"
     ]
    },
    {
     "name": "stderr",
     "output_type": "stream",
     "text": [
      "ERROR: [youtube] ERamVI7PhWg: Sign in to confirm you’re not a bot. Use --cookies-from-browser or --cookies for the authentication. See  https://github.com/yt-dlp/yt-dlp/wiki/FAQ#how-do-i-pass-cookies-to-yt-dlp  for how to manually pass cookies. Also see  https://github.com/yt-dlp/yt-dlp/wiki/Extractors#exporting-youtube-cookies  for tips on effectively exporting YouTube cookies\n"
     ]
    },
    {
     "name": "stdout",
     "output_type": "stream",
     "text": [
      "下载 https://www.youtube.com/watch?v=ERamVI7PhWg 失败: ERROR: [youtube] ERamVI7PhWg: Sign in to confirm you’re not a bot. Use --cookies-from-browser or --cookies for the authentication. See  https://github.com/yt-dlp/yt-dlp/wiki/FAQ#how-do-i-pass-cookies-to-yt-dlp  for how to manually pass cookies. Also see  https://github.com/yt-dlp/yt-dlp/wiki/Extractors#exporting-youtube-cookies  for tips on effectively exporting YouTube cookies\n",
      "达到最大重试次数 (3)，跳过视频 https://www.youtube.com/watch?v=ERamVI7PhWg\n",
      "处理视频 17: https://www.youtube.com/watch?v=J3LIrIlmnQY\n",
      "开始下载视频: https://www.youtube.com/watch?v=J3LIrIlmnQY (尝试 1/3)\n"
     ]
    },
    {
     "name": "stderr",
     "output_type": "stream",
     "text": [
      "ERROR: [youtube] J3LIrIlmnQY: Sign in to confirm you’re not a bot. Use --cookies-from-browser or --cookies for the authentication. See  https://github.com/yt-dlp/yt-dlp/wiki/FAQ#how-do-i-pass-cookies-to-yt-dlp  for how to manually pass cookies. Also see  https://github.com/yt-dlp/yt-dlp/wiki/Extractors#exporting-youtube-cookies  for tips on effectively exporting YouTube cookies\n"
     ]
    },
    {
     "name": "stdout",
     "output_type": "stream",
     "text": [
      "下载 https://www.youtube.com/watch?v=J3LIrIlmnQY 失败: ERROR: [youtube] J3LIrIlmnQY: Sign in to confirm you’re not a bot. Use --cookies-from-browser or --cookies for the authentication. See  https://github.com/yt-dlp/yt-dlp/wiki/FAQ#how-do-i-pass-cookies-to-yt-dlp  for how to manually pass cookies. Also see  https://github.com/yt-dlp/yt-dlp/wiki/Extractors#exporting-youtube-cookies  for tips on effectively exporting YouTube cookies\n",
      "等待 5 秒后重试...\n",
      "开始下载视频: https://www.youtube.com/watch?v=J3LIrIlmnQY (尝试 2/3)\n"
     ]
    },
    {
     "name": "stderr",
     "output_type": "stream",
     "text": [
      "ERROR: [youtube] J3LIrIlmnQY: Sign in to confirm you’re not a bot. Use --cookies-from-browser or --cookies for the authentication. See  https://github.com/yt-dlp/yt-dlp/wiki/FAQ#how-do-i-pass-cookies-to-yt-dlp  for how to manually pass cookies. Also see  https://github.com/yt-dlp/yt-dlp/wiki/Extractors#exporting-youtube-cookies  for tips on effectively exporting YouTube cookies\n"
     ]
    },
    {
     "name": "stdout",
     "output_type": "stream",
     "text": [
      "下载 https://www.youtube.com/watch?v=J3LIrIlmnQY 失败: ERROR: [youtube] J3LIrIlmnQY: Sign in to confirm you’re not a bot. Use --cookies-from-browser or --cookies for the authentication. See  https://github.com/yt-dlp/yt-dlp/wiki/FAQ#how-do-i-pass-cookies-to-yt-dlp  for how to manually pass cookies. Also see  https://github.com/yt-dlp/yt-dlp/wiki/Extractors#exporting-youtube-cookies  for tips on effectively exporting YouTube cookies\n",
      "等待 5 秒后重试...\n",
      "开始下载视频: https://www.youtube.com/watch?v=J3LIrIlmnQY (尝试 3/3)\n"
     ]
    },
    {
     "name": "stderr",
     "output_type": "stream",
     "text": [
      "ERROR: [youtube] J3LIrIlmnQY: Sign in to confirm you’re not a bot. Use --cookies-from-browser or --cookies for the authentication. See  https://github.com/yt-dlp/yt-dlp/wiki/FAQ#how-do-i-pass-cookies-to-yt-dlp  for how to manually pass cookies. Also see  https://github.com/yt-dlp/yt-dlp/wiki/Extractors#exporting-youtube-cookies  for tips on effectively exporting YouTube cookies\n"
     ]
    },
    {
     "name": "stdout",
     "output_type": "stream",
     "text": [
      "下载 https://www.youtube.com/watch?v=J3LIrIlmnQY 失败: ERROR: [youtube] J3LIrIlmnQY: Sign in to confirm you’re not a bot. Use --cookies-from-browser or --cookies for the authentication. See  https://github.com/yt-dlp/yt-dlp/wiki/FAQ#how-do-i-pass-cookies-to-yt-dlp  for how to manually pass cookies. Also see  https://github.com/yt-dlp/yt-dlp/wiki/Extractors#exporting-youtube-cookies  for tips on effectively exporting YouTube cookies\n",
      "达到最大重试次数 (3)，跳过视频 https://www.youtube.com/watch?v=J3LIrIlmnQY\n",
      "处理视频 18: https://www.youtube.com/watch?v=ofZPHElvidc\n",
      "开始下载视频: https://www.youtube.com/watch?v=ofZPHElvidc (尝试 1/3)\n",
      "                                                            \n",
      "更新 CSV 文件: D:/Data/video_info.csv\n",
      "                                                                                                 原标题                                                            中文标题  语言       分辨率  格式       发布日期         来源\n",
      "   Israel Hezbollah War LIVE | UN Security Council Meets In Emergency Session Over Lebanon Explosion                               以色列真主党战争现场直播|联合国安理会在黎巴嫩爆炸的紧急会议上开会  en 1920x1080 mp4 2024-09-21 CNN-News18\n",
      " Lebanon Explosion LIVE | Pagers Explode Across Lebanon in Attack Targeting Hezbollah Members | N18G                        黎巴嫩爆炸现场| Pagers在袭击以真主党成员的攻击中爆炸了黎巴嫩| N18G  en 1920x1080 mp4 2024-09-19 CNN-News18\n",
      "     The Curtain Comes Down On The Paralympic Games With A Rainy Electro Party | N18G | English News                                    窗帘在残奥会上与多雨的电派对下来| N18G |英语新闻  fr 1920x1080 mp4 2024-09-09 CNN-News18\n",
      " Vinesh Phogat India Arrival Live: Wrestler Returns To Country After Paris Olympics Heartbreak |N18L                       Vinesh Phogat印度到达现场：摔跤手在巴黎奥运会之后返回国家| N18L NaN 1920x1080 mp4 2024-08-17 CNN-News18\n",
      "Indian Wrestler Vinesh Phogat Returns To India Amidst Tight Security | Vinesh Phogat | N18V | News18      印度摔跤手Vinesh Phogat在紧密的安全性中返回印度| Vinesh Phogat | N18V |新闻18 NaN 1920x1080 mp4 2024-08-17 CNN-News18\n",
      "  Vinesh Phogat CAS Appeal | Vinesh Phogat CAS Verdict On Silver Medal Delayed Till August 16 | N18G Vinesh Phogat CAS上诉| Vinesh Phogat CAS CAS关于银牌的判决推迟到8月16日| N18G  en 1920x1080 mp4 2024-08-13 CNN-News18\n",
      "     Paris Olympics 2024 | Evolutionary Biologist Colin Wright Exclusive | Imane Khelif | Gender Row       巴黎奥运会2024 |进化生物学家科林·赖特（Colin Wright）独家| imane khelif |性别行  en  1280x720 mp4 2024-08-13 CNN-News18\n",
      "        Los Angeles To Host 2028 Summer Olympic Games | Olympics 2028 | Sports | N18G | English News                         洛杉矶举办2028年夏季奥运会|奥运会2028 |运动| N18G |英语新闻  en 1920x1080 mp4 2024-08-13 CNN-News18\n",
      "         Paris Olympics | Are Indian Athletes Pampered? JSW Sports' Manisha Says Toughen Up | News18                    巴黎奥运会|印度运动员受到宠爱吗？ JSW Sports的Manisha说强壮|新闻18  hi 1920x1080 mp4 2024-08-12 CNN-News18\n",
      "        Tom Cruise Olympics 2024 | Hollywood Superstar Tom Cruise Makes A Dramatic Appearance | N18G         汤姆·克鲁斯奥运会2024 |好莱坞超级巨星汤姆·克鲁斯（Tom Cruise）出现了戏剧性的外观| N18G NaN 1920x1080 mp4 2024-08-12 CNN-News18\n",
      "\n",
      "\n",
      "处理视频 19: https://www.youtube.com/watch?v=1Utz3nScG9c\n",
      "开始下载视频: https://www.youtube.com/watch?v=1Utz3nScG9c (尝试 1/3)\n",
      "                                                            \n",
      "更新 CSV 文件: D:/Data/video_info.csv\n",
      "                                                                                                 原标题                                                            中文标题  语言       分辨率  格式       发布日期         来源\n",
      "   Israel Hezbollah War LIVE | UN Security Council Meets In Emergency Session Over Lebanon Explosion                               以色列真主党战争现场直播|联合国安理会在黎巴嫩爆炸的紧急会议上开会  en 1920x1080 mp4 2024-09-21 CNN-News18\n",
      " Lebanon Explosion LIVE | Pagers Explode Across Lebanon in Attack Targeting Hezbollah Members | N18G                        黎巴嫩爆炸现场| Pagers在袭击以真主党成员的攻击中爆炸了黎巴嫩| N18G  en 1920x1080 mp4 2024-09-19 CNN-News18\n",
      "     The Curtain Comes Down On The Paralympic Games With A Rainy Electro Party | N18G | English News                                    窗帘在残奥会上与多雨的电派对下来| N18G |英语新闻  fr 1920x1080 mp4 2024-09-09 CNN-News18\n",
      " Vinesh Phogat India Arrival Live: Wrestler Returns To Country After Paris Olympics Heartbreak |N18L                       Vinesh Phogat印度到达现场：摔跤手在巴黎奥运会之后返回国家| N18L NaN 1920x1080 mp4 2024-08-17 CNN-News18\n",
      "Indian Wrestler Vinesh Phogat Returns To India Amidst Tight Security | Vinesh Phogat | N18V | News18      印度摔跤手Vinesh Phogat在紧密的安全性中返回印度| Vinesh Phogat | N18V |新闻18 NaN 1920x1080 mp4 2024-08-17 CNN-News18\n",
      "  Vinesh Phogat CAS Appeal | Vinesh Phogat CAS Verdict On Silver Medal Delayed Till August 16 | N18G Vinesh Phogat CAS上诉| Vinesh Phogat CAS CAS关于银牌的判决推迟到8月16日| N18G  en 1920x1080 mp4 2024-08-13 CNN-News18\n",
      "     Paris Olympics 2024 | Evolutionary Biologist Colin Wright Exclusive | Imane Khelif | Gender Row       巴黎奥运会2024 |进化生物学家科林·赖特（Colin Wright）独家| imane khelif |性别行  en  1280x720 mp4 2024-08-13 CNN-News18\n",
      "        Los Angeles To Host 2028 Summer Olympic Games | Olympics 2028 | Sports | N18G | English News                         洛杉矶举办2028年夏季奥运会|奥运会2028 |运动| N18G |英语新闻  en 1920x1080 mp4 2024-08-13 CNN-News18\n",
      "         Paris Olympics | Are Indian Athletes Pampered? JSW Sports' Manisha Says Toughen Up | News18                    巴黎奥运会|印度运动员受到宠爱吗？ JSW Sports的Manisha说强壮|新闻18  hi 1920x1080 mp4 2024-08-12 CNN-News18\n",
      "        Tom Cruise Olympics 2024 | Hollywood Superstar Tom Cruise Makes A Dramatic Appearance | N18G         汤姆·克鲁斯奥运会2024 |好莱坞超级巨星汤姆·克鲁斯（Tom Cruise）出现了戏剧性的外观| N18G NaN 1920x1080 mp4 2024-08-12 CNN-News18\n",
      "        Khap Leader Requests For A 'Bharat Ratna' For Vinesh Phogat | Vinesh Phogat Disqualification     Khap负责人要求Vinesh Phogat征求“ Bharat Ratna” | Vinesh Phosat取消资格 NaN 1920x1080 mp4 2024-08-12 CNN-News18\n",
      "\n",
      "\n",
      "处理视频 20: https://www.youtube.com/watch?v=wF0XznRUxic\n",
      "开始下载视频: https://www.youtube.com/watch?v=wF0XznRUxic (尝试 1/3)\n",
      "                                                                          \n",
      "更新 CSV 文件: D:/Data/video_info.csv\n",
      "                                                                                                 原标题                                                            中文标题  语言       分辨率  格式       发布日期         来源\n",
      "   Israel Hezbollah War LIVE | UN Security Council Meets In Emergency Session Over Lebanon Explosion                               以色列真主党战争现场直播|联合国安理会在黎巴嫩爆炸的紧急会议上开会  en 1920x1080 mp4 2024-09-21 CNN-News18\n",
      " Lebanon Explosion LIVE | Pagers Explode Across Lebanon in Attack Targeting Hezbollah Members | N18G                        黎巴嫩爆炸现场| Pagers在袭击以真主党成员的攻击中爆炸了黎巴嫩| N18G  en 1920x1080 mp4 2024-09-19 CNN-News18\n",
      "     The Curtain Comes Down On The Paralympic Games With A Rainy Electro Party | N18G | English News                                    窗帘在残奥会上与多雨的电派对下来| N18G |英语新闻  fr 1920x1080 mp4 2024-09-09 CNN-News18\n",
      " Vinesh Phogat India Arrival Live: Wrestler Returns To Country After Paris Olympics Heartbreak |N18L                       Vinesh Phogat印度到达现场：摔跤手在巴黎奥运会之后返回国家| N18L NaN 1920x1080 mp4 2024-08-17 CNN-News18\n",
      "Indian Wrestler Vinesh Phogat Returns To India Amidst Tight Security | Vinesh Phogat | N18V | News18      印度摔跤手Vinesh Phogat在紧密的安全性中返回印度| Vinesh Phogat | N18V |新闻18 NaN 1920x1080 mp4 2024-08-17 CNN-News18\n",
      "  Vinesh Phogat CAS Appeal | Vinesh Phogat CAS Verdict On Silver Medal Delayed Till August 16 | N18G Vinesh Phogat CAS上诉| Vinesh Phogat CAS CAS关于银牌的判决推迟到8月16日| N18G  en 1920x1080 mp4 2024-08-13 CNN-News18\n",
      "     Paris Olympics 2024 | Evolutionary Biologist Colin Wright Exclusive | Imane Khelif | Gender Row       巴黎奥运会2024 |进化生物学家科林·赖特（Colin Wright）独家| imane khelif |性别行  en  1280x720 mp4 2024-08-13 CNN-News18\n",
      "        Los Angeles To Host 2028 Summer Olympic Games | Olympics 2028 | Sports | N18G | English News                         洛杉矶举办2028年夏季奥运会|奥运会2028 |运动| N18G |英语新闻  en 1920x1080 mp4 2024-08-13 CNN-News18\n",
      "         Paris Olympics | Are Indian Athletes Pampered? JSW Sports' Manisha Says Toughen Up | News18                    巴黎奥运会|印度运动员受到宠爱吗？ JSW Sports的Manisha说强壮|新闻18  hi 1920x1080 mp4 2024-08-12 CNN-News18\n",
      "        Tom Cruise Olympics 2024 | Hollywood Superstar Tom Cruise Makes A Dramatic Appearance | N18G         汤姆·克鲁斯奥运会2024 |好莱坞超级巨星汤姆·克鲁斯（Tom Cruise）出现了戏剧性的外观| N18G NaN 1920x1080 mp4 2024-08-12 CNN-News18\n",
      "        Khap Leader Requests For A 'Bharat Ratna' For Vinesh Phogat | Vinesh Phogat Disqualification     Khap负责人要求Vinesh Phogat征求“ Bharat Ratna” | Vinesh Phosat取消资格 NaN 1920x1080 mp4 2024-08-12 CNN-News18\n",
      "       Paris Olympics Closing Ceremony 2024: Paris Prepares To Hand Over Baton To Los Angeles | N18G                              巴黎奥运会闭幕式2024年：巴黎准备将接力棒移交给洛杉矶| N18G  en 1920x1080 mp4 2024-08-11 CNN-News18\n",
      "\n",
      "\n",
      "处理视频 21: https://www.youtube.com/watch?v=ng7xvTUVEV4\n",
      "开始下载视频: https://www.youtube.com/watch?v=ng7xvTUVEV4 (尝试 1/3)\n"
     ]
    },
    {
     "name": "stderr",
     "output_type": "stream",
     "text": [
      "ERROR: [youtube] ng7xvTUVEV4: This live stream recording is not available.\n"
     ]
    },
    {
     "name": "stdout",
     "output_type": "stream",
     "text": [
      "下载 https://www.youtube.com/watch?v=ng7xvTUVEV4 失败: ERROR: [youtube] ng7xvTUVEV4: This live stream recording is not available.\n",
      "等待 5 秒后重试...\n",
      "开始下载视频: https://www.youtube.com/watch?v=ng7xvTUVEV4 (尝试 2/3)\n"
     ]
    },
    {
     "name": "stderr",
     "output_type": "stream",
     "text": [
      "ERROR: [youtube] ng7xvTUVEV4: This live stream recording is not available.\n"
     ]
    },
    {
     "name": "stdout",
     "output_type": "stream",
     "text": [
      "下载 https://www.youtube.com/watch?v=ng7xvTUVEV4 失败: ERROR: [youtube] ng7xvTUVEV4: This live stream recording is not available.\n",
      "等待 5 秒后重试...\n",
      "开始下载视频: https://www.youtube.com/watch?v=ng7xvTUVEV4 (尝试 3/3)\n"
     ]
    },
    {
     "name": "stderr",
     "output_type": "stream",
     "text": [
      "ERROR: [youtube] ng7xvTUVEV4: This live stream recording is not available.\n"
     ]
    },
    {
     "name": "stdout",
     "output_type": "stream",
     "text": [
      "下载 https://www.youtube.com/watch?v=ng7xvTUVEV4 失败: ERROR: [youtube] ng7xvTUVEV4: This live stream recording is not available.\n",
      "达到最大重试次数 (3)，跳过视频 https://www.youtube.com/watch?v=ng7xvTUVEV4\n",
      "处理视频 22: https://www.youtube.com/watch?v=gmHbRIdrfME\n",
      "开始下载视频: https://www.youtube.com/watch?v=gmHbRIdrfME (尝试 1/3)\n",
      "                                                                         \n",
      "更新 CSV 文件: D:/Data/video_info.csv\n",
      "                                                                                                 原标题                                                            中文标题  语言       分辨率  格式       发布日期         来源\n",
      "   Israel Hezbollah War LIVE | UN Security Council Meets In Emergency Session Over Lebanon Explosion                               以色列真主党战争现场直播|联合国安理会在黎巴嫩爆炸的紧急会议上开会  en 1920x1080 mp4 2024-09-21 CNN-News18\n",
      " Lebanon Explosion LIVE | Pagers Explode Across Lebanon in Attack Targeting Hezbollah Members | N18G                        黎巴嫩爆炸现场| Pagers在袭击以真主党成员的攻击中爆炸了黎巴嫩| N18G  en 1920x1080 mp4 2024-09-19 CNN-News18\n",
      "     The Curtain Comes Down On The Paralympic Games With A Rainy Electro Party | N18G | English News                                    窗帘在残奥会上与多雨的电派对下来| N18G |英语新闻  fr 1920x1080 mp4 2024-09-09 CNN-News18\n",
      " Vinesh Phogat India Arrival Live: Wrestler Returns To Country After Paris Olympics Heartbreak |N18L                       Vinesh Phogat印度到达现场：摔跤手在巴黎奥运会之后返回国家| N18L NaN 1920x1080 mp4 2024-08-17 CNN-News18\n",
      "Indian Wrestler Vinesh Phogat Returns To India Amidst Tight Security | Vinesh Phogat | N18V | News18      印度摔跤手Vinesh Phogat在紧密的安全性中返回印度| Vinesh Phogat | N18V |新闻18 NaN 1920x1080 mp4 2024-08-17 CNN-News18\n",
      "  Vinesh Phogat CAS Appeal | Vinesh Phogat CAS Verdict On Silver Medal Delayed Till August 16 | N18G Vinesh Phogat CAS上诉| Vinesh Phogat CAS CAS关于银牌的判决推迟到8月16日| N18G  en 1920x1080 mp4 2024-08-13 CNN-News18\n",
      "     Paris Olympics 2024 | Evolutionary Biologist Colin Wright Exclusive | Imane Khelif | Gender Row       巴黎奥运会2024 |进化生物学家科林·赖特（Colin Wright）独家| imane khelif |性别行  en  1280x720 mp4 2024-08-13 CNN-News18\n",
      "        Los Angeles To Host 2028 Summer Olympic Games | Olympics 2028 | Sports | N18G | English News                         洛杉矶举办2028年夏季奥运会|奥运会2028 |运动| N18G |英语新闻  en 1920x1080 mp4 2024-08-13 CNN-News18\n",
      "         Paris Olympics | Are Indian Athletes Pampered? JSW Sports' Manisha Says Toughen Up | News18                    巴黎奥运会|印度运动员受到宠爱吗？ JSW Sports的Manisha说强壮|新闻18  hi 1920x1080 mp4 2024-08-12 CNN-News18\n",
      "        Tom Cruise Olympics 2024 | Hollywood Superstar Tom Cruise Makes A Dramatic Appearance | N18G         汤姆·克鲁斯奥运会2024 |好莱坞超级巨星汤姆·克鲁斯（Tom Cruise）出现了戏剧性的外观| N18G NaN 1920x1080 mp4 2024-08-12 CNN-News18\n",
      "        Khap Leader Requests For A 'Bharat Ratna' For Vinesh Phogat | Vinesh Phogat Disqualification     Khap负责人要求Vinesh Phogat征求“ Bharat Ratna” | Vinesh Phosat取消资格 NaN 1920x1080 mp4 2024-08-12 CNN-News18\n",
      "       Paris Olympics Closing Ceremony 2024: Paris Prepares To Hand Over Baton To Los Angeles | N18G                              巴黎奥运会闭幕式2024年：巴黎准备将接力棒移交给洛杉矶| N18G  en 1920x1080 mp4 2024-08-11 CNN-News18\n",
      "         Paris Olympics2024: Wait Continues For Vinesh Phogat As CAS Defers Decision On Joint Silver           巴黎奥林匹克运动会2024：随着Cas Defers对联合银的决定，等待继续前往Vinesh Phogat  hi 1920x1080 mp4 2024-08-11 CNN-News18\n",
      "\n",
      "\n",
      "处理视频 23: https://www.youtube.com/watch?v=_Jn90VW73p0\n",
      "开始下载视频: https://www.youtube.com/watch?v=_Jn90VW73p0 (尝试 1/3)\n"
     ]
    },
    {
     "name": "stderr",
     "output_type": "stream",
     "text": [
      "ERROR: [youtube] _Jn90VW73p0: Sign in to confirm you’re not a bot. Use --cookies-from-browser or --cookies for the authentication. See  https://github.com/yt-dlp/yt-dlp/wiki/FAQ#how-do-i-pass-cookies-to-yt-dlp  for how to manually pass cookies. Also see  https://github.com/yt-dlp/yt-dlp/wiki/Extractors#exporting-youtube-cookies  for tips on effectively exporting YouTube cookies\n"
     ]
    },
    {
     "name": "stdout",
     "output_type": "stream",
     "text": [
      "下载 https://www.youtube.com/watch?v=_Jn90VW73p0 失败: ERROR: [youtube] _Jn90VW73p0: Sign in to confirm you’re not a bot. Use --cookies-from-browser or --cookies for the authentication. See  https://github.com/yt-dlp/yt-dlp/wiki/FAQ#how-do-i-pass-cookies-to-yt-dlp  for how to manually pass cookies. Also see  https://github.com/yt-dlp/yt-dlp/wiki/Extractors#exporting-youtube-cookies  for tips on effectively exporting YouTube cookies\n",
      "等待 5 秒后重试...\n",
      "开始下载视频: https://www.youtube.com/watch?v=_Jn90VW73p0 (尝试 2/3)\n"
     ]
    },
    {
     "name": "stderr",
     "output_type": "stream",
     "text": [
      "ERROR: [youtube] _Jn90VW73p0: Sign in to confirm you’re not a bot. Use --cookies-from-browser or --cookies for the authentication. See  https://github.com/yt-dlp/yt-dlp/wiki/FAQ#how-do-i-pass-cookies-to-yt-dlp  for how to manually pass cookies. Also see  https://github.com/yt-dlp/yt-dlp/wiki/Extractors#exporting-youtube-cookies  for tips on effectively exporting YouTube cookies\n"
     ]
    },
    {
     "name": "stdout",
     "output_type": "stream",
     "text": [
      "下载 https://www.youtube.com/watch?v=_Jn90VW73p0 失败: ERROR: [youtube] _Jn90VW73p0: Sign in to confirm you’re not a bot. Use --cookies-from-browser or --cookies for the authentication. See  https://github.com/yt-dlp/yt-dlp/wiki/FAQ#how-do-i-pass-cookies-to-yt-dlp  for how to manually pass cookies. Also see  https://github.com/yt-dlp/yt-dlp/wiki/Extractors#exporting-youtube-cookies  for tips on effectively exporting YouTube cookies\n",
      "等待 5 秒后重试...\n",
      "开始下载视频: https://www.youtube.com/watch?v=_Jn90VW73p0 (尝试 3/3)\n"
     ]
    },
    {
     "name": "stderr",
     "output_type": "stream",
     "text": [
      "ERROR: [youtube] _Jn90VW73p0: Sign in to confirm you’re not a bot. Use --cookies-from-browser or --cookies for the authentication. See  https://github.com/yt-dlp/yt-dlp/wiki/FAQ#how-do-i-pass-cookies-to-yt-dlp  for how to manually pass cookies. Also see  https://github.com/yt-dlp/yt-dlp/wiki/Extractors#exporting-youtube-cookies  for tips on effectively exporting YouTube cookies\n"
     ]
    },
    {
     "name": "stdout",
     "output_type": "stream",
     "text": [
      "下载 https://www.youtube.com/watch?v=_Jn90VW73p0 失败: ERROR: [youtube] _Jn90VW73p0: Sign in to confirm you’re not a bot. Use --cookies-from-browser or --cookies for the authentication. See  https://github.com/yt-dlp/yt-dlp/wiki/FAQ#how-do-i-pass-cookies-to-yt-dlp  for how to manually pass cookies. Also see  https://github.com/yt-dlp/yt-dlp/wiki/Extractors#exporting-youtube-cookies  for tips on effectively exporting YouTube cookies\n",
      "达到最大重试次数 (3)，跳过视频 https://www.youtube.com/watch?v=_Jn90VW73p0\n",
      "处理视频 24: https://www.youtube.com/watch?v=OmFNLPFJRI8\n",
      "开始下载视频: https://www.youtube.com/watch?v=OmFNLPFJRI8 (尝试 1/3)\n",
      "                                                            \n",
      "更新 CSV 文件: D:/Data/video_info.csv\n",
      "                                                                                                 原标题                                                            中文标题  语言       分辨率  格式       发布日期         来源\n",
      "   Israel Hezbollah War LIVE | UN Security Council Meets In Emergency Session Over Lebanon Explosion                               以色列真主党战争现场直播|联合国安理会在黎巴嫩爆炸的紧急会议上开会  en 1920x1080 mp4 2024-09-21 CNN-News18\n",
      " Lebanon Explosion LIVE | Pagers Explode Across Lebanon in Attack Targeting Hezbollah Members | N18G                        黎巴嫩爆炸现场| Pagers在袭击以真主党成员的攻击中爆炸了黎巴嫩| N18G  en 1920x1080 mp4 2024-09-19 CNN-News18\n",
      "     The Curtain Comes Down On The Paralympic Games With A Rainy Electro Party | N18G | English News                                    窗帘在残奥会上与多雨的电派对下来| N18G |英语新闻  fr 1920x1080 mp4 2024-09-09 CNN-News18\n",
      " Vinesh Phogat India Arrival Live: Wrestler Returns To Country After Paris Olympics Heartbreak |N18L                       Vinesh Phogat印度到达现场：摔跤手在巴黎奥运会之后返回国家| N18L NaN 1920x1080 mp4 2024-08-17 CNN-News18\n",
      "Indian Wrestler Vinesh Phogat Returns To India Amidst Tight Security | Vinesh Phogat | N18V | News18      印度摔跤手Vinesh Phogat在紧密的安全性中返回印度| Vinesh Phogat | N18V |新闻18 NaN 1920x1080 mp4 2024-08-17 CNN-News18\n",
      "  Vinesh Phogat CAS Appeal | Vinesh Phogat CAS Verdict On Silver Medal Delayed Till August 16 | N18G Vinesh Phogat CAS上诉| Vinesh Phogat CAS CAS关于银牌的判决推迟到8月16日| N18G  en 1920x1080 mp4 2024-08-13 CNN-News18\n",
      "     Paris Olympics 2024 | Evolutionary Biologist Colin Wright Exclusive | Imane Khelif | Gender Row       巴黎奥运会2024 |进化生物学家科林·赖特（Colin Wright）独家| imane khelif |性别行  en  1280x720 mp4 2024-08-13 CNN-News18\n",
      "        Los Angeles To Host 2028 Summer Olympic Games | Olympics 2028 | Sports | N18G | English News                         洛杉矶举办2028年夏季奥运会|奥运会2028 |运动| N18G |英语新闻  en 1920x1080 mp4 2024-08-13 CNN-News18\n",
      "         Paris Olympics | Are Indian Athletes Pampered? JSW Sports' Manisha Says Toughen Up | News18                    巴黎奥运会|印度运动员受到宠爱吗？ JSW Sports的Manisha说强壮|新闻18  hi 1920x1080 mp4 2024-08-12 CNN-News18\n",
      "        Tom Cruise Olympics 2024 | Hollywood Superstar Tom Cruise Makes A Dramatic Appearance | N18G         汤姆·克鲁斯奥运会2024 |好莱坞超级巨星汤姆·克鲁斯（Tom Cruise）出现了戏剧性的外观| N18G NaN 1920x1080 mp4 2024-08-12 CNN-News18\n",
      "        Khap Leader Requests For A 'Bharat Ratna' For Vinesh Phogat | Vinesh Phogat Disqualification     Khap负责人要求Vinesh Phogat征求“ Bharat Ratna” | Vinesh Phosat取消资格 NaN 1920x1080 mp4 2024-08-12 CNN-News18\n",
      "       Paris Olympics Closing Ceremony 2024: Paris Prepares To Hand Over Baton To Los Angeles | N18G                              巴黎奥运会闭幕式2024年：巴黎准备将接力棒移交给洛杉矶| N18G  en 1920x1080 mp4 2024-08-11 CNN-News18\n",
      "         Paris Olympics2024: Wait Continues For Vinesh Phogat As CAS Defers Decision On Joint Silver           巴黎奥林匹克运动会2024：随着Cas Defers对联合银的决定，等待继续前往Vinesh Phogat  hi 1920x1080 mp4 2024-08-11 CNN-News18\n",
      "Vinesh Phogat CAS Verdict | CAS Extend Time Till August 11 | CAS Hearing Live | Paris Oplympics 2024         Vinesh Phogat CAS判决| CAS将时间延长至8月11日| CAS听证现场|巴黎奥运会2024年  en 1920x1080 mp4 2024-08-11 CNN-News18\n",
      "\n",
      "\n",
      "处理视频 25: https://www.youtube.com/watch?v=E0yn0HT0Yi0\n",
      "开始下载视频: https://www.youtube.com/watch?v=E0yn0HT0Yi0 (尝试 1/3)\n"
     ]
    },
    {
     "name": "stderr",
     "output_type": "stream",
     "text": [
      "ERROR: [youtube] E0yn0HT0Yi0: Requested format is not available. Use --list-formats for a list of available formats\n"
     ]
    },
    {
     "name": "stdout",
     "output_type": "stream",
     "text": [
      "下载 https://www.youtube.com/watch?v=E0yn0HT0Yi0 失败: ERROR: [youtube] E0yn0HT0Yi0: Requested format is not available. Use --list-formats for a list of available formats\n",
      "等待 5 秒后重试...\n",
      "开始下载视频: https://www.youtube.com/watch?v=E0yn0HT0Yi0 (尝试 2/3)\n"
     ]
    },
    {
     "name": "stderr",
     "output_type": "stream",
     "text": [
      "ERROR: [youtube] E0yn0HT0Yi0: Sign in to confirm you’re not a bot. Use --cookies-from-browser or --cookies for the authentication. See  https://github.com/yt-dlp/yt-dlp/wiki/FAQ#how-do-i-pass-cookies-to-yt-dlp  for how to manually pass cookies. Also see  https://github.com/yt-dlp/yt-dlp/wiki/Extractors#exporting-youtube-cookies  for tips on effectively exporting YouTube cookies\n"
     ]
    },
    {
     "name": "stdout",
     "output_type": "stream",
     "text": [
      "下载 https://www.youtube.com/watch?v=E0yn0HT0Yi0 失败: ERROR: [youtube] E0yn0HT0Yi0: Sign in to confirm you’re not a bot. Use --cookies-from-browser or --cookies for the authentication. See  https://github.com/yt-dlp/yt-dlp/wiki/FAQ#how-do-i-pass-cookies-to-yt-dlp  for how to manually pass cookies. Also see  https://github.com/yt-dlp/yt-dlp/wiki/Extractors#exporting-youtube-cookies  for tips on effectively exporting YouTube cookies\n",
      "等待 5 秒后重试...\n",
      "开始下载视频: https://www.youtube.com/watch?v=E0yn0HT0Yi0 (尝试 3/3)\n"
     ]
    },
    {
     "name": "stderr",
     "output_type": "stream",
     "text": [
      "ERROR: [youtube] E0yn0HT0Yi0: Sign in to confirm you’re not a bot. Use --cookies-from-browser or --cookies for the authentication. See  https://github.com/yt-dlp/yt-dlp/wiki/FAQ#how-do-i-pass-cookies-to-yt-dlp  for how to manually pass cookies. Also see  https://github.com/yt-dlp/yt-dlp/wiki/Extractors#exporting-youtube-cookies  for tips on effectively exporting YouTube cookies\n"
     ]
    },
    {
     "name": "stdout",
     "output_type": "stream",
     "text": [
      "下载 https://www.youtube.com/watch?v=E0yn0HT0Yi0 失败: ERROR: [youtube] E0yn0HT0Yi0: Sign in to confirm you’re not a bot. Use --cookies-from-browser or --cookies for the authentication. See  https://github.com/yt-dlp/yt-dlp/wiki/FAQ#how-do-i-pass-cookies-to-yt-dlp  for how to manually pass cookies. Also see  https://github.com/yt-dlp/yt-dlp/wiki/Extractors#exporting-youtube-cookies  for tips on effectively exporting YouTube cookies\n",
      "达到最大重试次数 (3)，跳过视频 https://www.youtube.com/watch?v=E0yn0HT0Yi0\n",
      "处理视频 26: https://www.youtube.com/watch?v=BrdmgvTu2YM\n",
      "开始下载视频: https://www.youtube.com/watch?v=BrdmgvTu2YM (尝试 1/3)\n"
     ]
    },
    {
     "name": "stderr",
     "output_type": "stream",
     "text": [
      "ERROR: [youtube] BrdmgvTu2YM: Sign in to confirm you’re not a bot. Use --cookies-from-browser or --cookies for the authentication. See  https://github.com/yt-dlp/yt-dlp/wiki/FAQ#how-do-i-pass-cookies-to-yt-dlp  for how to manually pass cookies. Also see  https://github.com/yt-dlp/yt-dlp/wiki/Extractors#exporting-youtube-cookies  for tips on effectively exporting YouTube cookies\n"
     ]
    },
    {
     "name": "stdout",
     "output_type": "stream",
     "text": [
      "下载 https://www.youtube.com/watch?v=BrdmgvTu2YM 失败: ERROR: [youtube] BrdmgvTu2YM: Sign in to confirm you’re not a bot. Use --cookies-from-browser or --cookies for the authentication. See  https://github.com/yt-dlp/yt-dlp/wiki/FAQ#how-do-i-pass-cookies-to-yt-dlp  for how to manually pass cookies. Also see  https://github.com/yt-dlp/yt-dlp/wiki/Extractors#exporting-youtube-cookies  for tips on effectively exporting YouTube cookies\n",
      "等待 5 秒后重试...\n",
      "开始下载视频: https://www.youtube.com/watch?v=BrdmgvTu2YM (尝试 2/3)\n",
      "                                                            \r"
     ]
    },
    {
     "ename": "ReadTimeout",
     "evalue": "timed out",
     "output_type": "error",
     "traceback": [
      "\u001b[1;31m---------------------------------------------------------------------------\u001b[0m",
      "\u001b[1;31mReadTimeout\u001b[0m                               Traceback (most recent call last)",
      "Cell \u001b[1;32mIn[6], line 5\u001b[0m\n\u001b[0;32m      3\u001b[0m video_output_dir \u001b[38;5;241m=\u001b[39m \u001b[38;5;124m\"\u001b[39m\u001b[38;5;124mD:/Videos\u001b[39m\u001b[38;5;124m\"\u001b[39m\n\u001b[0;32m      4\u001b[0m csv_output_path \u001b[38;5;241m=\u001b[39m \u001b[38;5;124m\"\u001b[39m\u001b[38;5;124mD:/Data/video_info.csv\u001b[39m\u001b[38;5;124m\"\u001b[39m\n\u001b[1;32m----> 5\u001b[0m \u001b[43mmain\u001b[49m\u001b[43m(\u001b[49m\u001b[43mplaylist_url\u001b[49m\u001b[43m,\u001b[49m\u001b[43m \u001b[49m\u001b[43mvideo_output_dir\u001b[49m\u001b[38;5;241;43m=\u001b[39;49m\u001b[43mvideo_output_dir\u001b[49m\u001b[43m,\u001b[49m\u001b[43m \u001b[49m\u001b[43mcsv_output\u001b[49m\u001b[38;5;241;43m=\u001b[39;49m\u001b[43mcsv_output_path\u001b[49m\u001b[43m)\u001b[49m\n",
      "Cell \u001b[1;32mIn[5], line 171\u001b[0m, in \u001b[0;36mmain\u001b[1;34m(playlist_url, video_output_dir, csv_output)\u001b[0m\n\u001b[0;32m    169\u001b[0m \u001b[38;5;28;01mfor\u001b[39;00m index, (url, title) \u001b[38;5;129;01min\u001b[39;00m \u001b[38;5;28menumerate\u001b[39m(video_urls, start\u001b[38;5;241m=\u001b[39m\u001b[38;5;241m1\u001b[39m):  \u001b[38;5;66;03m# Start index at 1\u001b[39;00m\n\u001b[0;32m    170\u001b[0m     \u001b[38;5;28mprint\u001b[39m(\u001b[38;5;124mf\u001b[39m\u001b[38;5;124m\"\u001b[39m\u001b[38;5;124m处理视频 \u001b[39m\u001b[38;5;132;01m{\u001b[39;00mindex\u001b[38;5;132;01m}\u001b[39;00m\u001b[38;5;124m: \u001b[39m\u001b[38;5;132;01m{\u001b[39;00murl\u001b[38;5;132;01m}\u001b[39;00m\u001b[38;5;124m\"\u001b[39m)\n\u001b[1;32m--> 171\u001b[0m     video_info \u001b[38;5;241m=\u001b[39m \u001b[43mdownload_video_and_get_info\u001b[49m\u001b[43m(\u001b[49m\u001b[43murl\u001b[49m\u001b[43m,\u001b[49m\u001b[43m \u001b[49m\u001b[43mtitle\u001b[49m\u001b[43m,\u001b[49m\u001b[43m \u001b[49m\u001b[43mindex\u001b[49m\u001b[43m,\u001b[49m\u001b[43m \u001b[49m\u001b[43mcookies_file\u001b[49m\u001b[43m,\u001b[49m\u001b[43m \u001b[49m\u001b[43mvideo_output_dir\u001b[49m\u001b[43m)\u001b[49m\n\u001b[0;32m    172\u001b[0m     \u001b[38;5;28;01mif\u001b[39;00m video_info:\n\u001b[0;32m    173\u001b[0m         video_info_list\u001b[38;5;241m.\u001b[39mappend(video_info)\n",
      "Cell \u001b[1;32mIn[5], line 103\u001b[0m, in \u001b[0;36mdownload_video_and_get_info\u001b[1;34m(video_url, video_title, index, cookies_file, output_dir, max_retries)\u001b[0m\n\u001b[0;32m     99\u001b[0m     \u001b[38;5;28;01mreturn\u001b[39;00m \u001b[38;5;28;01mNone\u001b[39;00m\n\u001b[0;32m    101\u001b[0m ydl\u001b[38;5;241m.\u001b[39mdownload([video_url])\n\u001b[1;32m--> 103\u001b[0m chinese_title \u001b[38;5;241m=\u001b[39m \u001b[43mtranslator\u001b[49m\u001b[38;5;241;43m.\u001b[39;49m\u001b[43mtranslate\u001b[49m\u001b[43m(\u001b[49m\u001b[43moriginal_title\u001b[49m\u001b[43m,\u001b[49m\u001b[43m \u001b[49m\u001b[43mdest\u001b[49m\u001b[38;5;241;43m=\u001b[39;49m\u001b[38;5;124;43m'\u001b[39;49m\u001b[38;5;124;43mzh-cn\u001b[39;49m\u001b[38;5;124;43m'\u001b[39;49m\u001b[43m)\u001b[49m\u001b[38;5;241m.\u001b[39mtext\n\u001b[0;32m    104\u001b[0m language \u001b[38;5;241m=\u001b[39m info\u001b[38;5;241m.\u001b[39mget(\u001b[38;5;124m'\u001b[39m\u001b[38;5;124mlanguage\u001b[39m\u001b[38;5;124m'\u001b[39m, \u001b[38;5;124m'\u001b[39m\u001b[38;5;124mN/A\u001b[39m\u001b[38;5;124m'\u001b[39m)\n\u001b[0;32m    105\u001b[0m resolution \u001b[38;5;241m=\u001b[39m info\u001b[38;5;241m.\u001b[39mget(\u001b[38;5;124m'\u001b[39m\u001b[38;5;124mresolution\u001b[39m\u001b[38;5;124m'\u001b[39m, \u001b[38;5;124m'\u001b[39m\u001b[38;5;124mN/A\u001b[39m\u001b[38;5;124m'\u001b[39m) \u001b[38;5;129;01mor\u001b[39;00m \u001b[38;5;124mf\u001b[39m\u001b[38;5;124m\"\u001b[39m\u001b[38;5;132;01m{\u001b[39;00minfo\u001b[38;5;241m.\u001b[39mget(\u001b[38;5;124m'\u001b[39m\u001b[38;5;124mheight\u001b[39m\u001b[38;5;124m'\u001b[39m,\u001b[38;5;250m \u001b[39m\u001b[38;5;124m'\u001b[39m\u001b[38;5;124mN/A\u001b[39m\u001b[38;5;124m'\u001b[39m)\u001b[38;5;132;01m}\u001b[39;00m\u001b[38;5;124mp\u001b[39m\u001b[38;5;124m\"\u001b[39m\n",
      "File \u001b[1;32m~\\AppData\\Local\\Packages\\PythonSoftwareFoundation.Python.3.11_qbz5n2kfra8p0\\LocalCache\\local-packages\\Python311\\site-packages\\googletrans\\client.py:210\u001b[0m, in \u001b[0;36mTranslator.translate\u001b[1;34m(self, text, dest, src, **kwargs)\u001b[0m\n\u001b[0;32m    207\u001b[0m     \u001b[38;5;28;01mreturn\u001b[39;00m result\n\u001b[0;32m    209\u001b[0m origin \u001b[38;5;241m=\u001b[39m text\n\u001b[1;32m--> 210\u001b[0m data, response \u001b[38;5;241m=\u001b[39m \u001b[38;5;28;43mself\u001b[39;49m\u001b[38;5;241;43m.\u001b[39;49m\u001b[43m_translate\u001b[49m\u001b[43m(\u001b[49m\u001b[43mtext\u001b[49m\u001b[43m,\u001b[49m\u001b[43m \u001b[49m\u001b[43mdest\u001b[49m\u001b[43m,\u001b[49m\u001b[43m \u001b[49m\u001b[43msrc\u001b[49m\u001b[43m,\u001b[49m\u001b[43m \u001b[49m\u001b[43mkwargs\u001b[49m\u001b[43m)\u001b[49m\n\u001b[0;32m    212\u001b[0m \u001b[38;5;66;03m# this code will be updated when the format is changed.\u001b[39;00m\n\u001b[0;32m    213\u001b[0m translated \u001b[38;5;241m=\u001b[39m \u001b[38;5;124m'\u001b[39m\u001b[38;5;124m'\u001b[39m\u001b[38;5;241m.\u001b[39mjoin([d[\u001b[38;5;241m0\u001b[39m] \u001b[38;5;28;01mif\u001b[39;00m d[\u001b[38;5;241m0\u001b[39m] \u001b[38;5;28;01melse\u001b[39;00m \u001b[38;5;124m'\u001b[39m\u001b[38;5;124m'\u001b[39m \u001b[38;5;28;01mfor\u001b[39;00m d \u001b[38;5;129;01min\u001b[39;00m data[\u001b[38;5;241m0\u001b[39m]])\n",
      "File \u001b[1;32m~\\AppData\\Local\\Packages\\PythonSoftwareFoundation.Python.3.11_qbz5n2kfra8p0\\LocalCache\\local-packages\\Python311\\site-packages\\googletrans\\client.py:108\u001b[0m, in \u001b[0;36mTranslator._translate\u001b[1;34m(self, text, dest, src, override)\u001b[0m\n\u001b[0;32m    104\u001b[0m params \u001b[38;5;241m=\u001b[39m utils\u001b[38;5;241m.\u001b[39mbuild_params(client\u001b[38;5;241m=\u001b[39m\u001b[38;5;28mself\u001b[39m\u001b[38;5;241m.\u001b[39mclient_type, query\u001b[38;5;241m=\u001b[39mtext, src\u001b[38;5;241m=\u001b[39msrc, dest\u001b[38;5;241m=\u001b[39mdest,\n\u001b[0;32m    105\u001b[0m                             token\u001b[38;5;241m=\u001b[39mtoken, override\u001b[38;5;241m=\u001b[39moverride)\n\u001b[0;32m    107\u001b[0m url \u001b[38;5;241m=\u001b[39m urls\u001b[38;5;241m.\u001b[39mTRANSLATE\u001b[38;5;241m.\u001b[39mformat(host\u001b[38;5;241m=\u001b[39m\u001b[38;5;28mself\u001b[39m\u001b[38;5;241m.\u001b[39m_pick_service_url())\n\u001b[1;32m--> 108\u001b[0m r \u001b[38;5;241m=\u001b[39m \u001b[38;5;28;43mself\u001b[39;49m\u001b[38;5;241;43m.\u001b[39;49m\u001b[43mclient\u001b[49m\u001b[38;5;241;43m.\u001b[39;49m\u001b[43mget\u001b[49m\u001b[43m(\u001b[49m\u001b[43murl\u001b[49m\u001b[43m,\u001b[49m\u001b[43m \u001b[49m\u001b[43mparams\u001b[49m\u001b[38;5;241;43m=\u001b[39;49m\u001b[43mparams\u001b[49m\u001b[43m)\u001b[49m\n\u001b[0;32m    110\u001b[0m \u001b[38;5;28;01mif\u001b[39;00m r\u001b[38;5;241m.\u001b[39mstatus_code \u001b[38;5;241m==\u001b[39m \u001b[38;5;241m200\u001b[39m:\n\u001b[0;32m    111\u001b[0m     data \u001b[38;5;241m=\u001b[39m utils\u001b[38;5;241m.\u001b[39mformat_json(r\u001b[38;5;241m.\u001b[39mtext)\n",
      "File \u001b[1;32m~\\AppData\\Local\\Packages\\PythonSoftwareFoundation.Python.3.11_qbz5n2kfra8p0\\LocalCache\\local-packages\\Python311\\site-packages\\httpx\\_client.py:755\u001b[0m, in \u001b[0;36mClient.get\u001b[1;34m(self, url, params, headers, cookies, auth, allow_redirects, timeout)\u001b[0m\n\u001b[0;32m    744\u001b[0m \u001b[38;5;28;01mdef\u001b[39;00m \u001b[38;5;21mget\u001b[39m(\n\u001b[0;32m    745\u001b[0m     \u001b[38;5;28mself\u001b[39m,\n\u001b[0;32m    746\u001b[0m     url: URLTypes,\n\u001b[1;32m   (...)\u001b[0m\n\u001b[0;32m    753\u001b[0m     timeout: typing\u001b[38;5;241m.\u001b[39mUnion[TimeoutTypes, UnsetType] \u001b[38;5;241m=\u001b[39m UNSET,\n\u001b[0;32m    754\u001b[0m ) \u001b[38;5;241m-\u001b[39m\u001b[38;5;241m>\u001b[39m Response:\n\u001b[1;32m--> 755\u001b[0m     \u001b[38;5;28;01mreturn\u001b[39;00m \u001b[38;5;28;43mself\u001b[39;49m\u001b[38;5;241;43m.\u001b[39;49m\u001b[43mrequest\u001b[49m\u001b[43m(\u001b[49m\n\u001b[0;32m    756\u001b[0m \u001b[43m        \u001b[49m\u001b[38;5;124;43m\"\u001b[39;49m\u001b[38;5;124;43mGET\u001b[39;49m\u001b[38;5;124;43m\"\u001b[39;49m\u001b[43m,\u001b[49m\n\u001b[0;32m    757\u001b[0m \u001b[43m        \u001b[49m\u001b[43murl\u001b[49m\u001b[43m,\u001b[49m\n\u001b[0;32m    758\u001b[0m \u001b[43m        \u001b[49m\u001b[43mparams\u001b[49m\u001b[38;5;241;43m=\u001b[39;49m\u001b[43mparams\u001b[49m\u001b[43m,\u001b[49m\n\u001b[0;32m    759\u001b[0m \u001b[43m        \u001b[49m\u001b[43mheaders\u001b[49m\u001b[38;5;241;43m=\u001b[39;49m\u001b[43mheaders\u001b[49m\u001b[43m,\u001b[49m\n\u001b[0;32m    760\u001b[0m \u001b[43m        \u001b[49m\u001b[43mcookies\u001b[49m\u001b[38;5;241;43m=\u001b[39;49m\u001b[43mcookies\u001b[49m\u001b[43m,\u001b[49m\n\u001b[0;32m    761\u001b[0m \u001b[43m        \u001b[49m\u001b[43mauth\u001b[49m\u001b[38;5;241;43m=\u001b[39;49m\u001b[43mauth\u001b[49m\u001b[43m,\u001b[49m\n\u001b[0;32m    762\u001b[0m \u001b[43m        \u001b[49m\u001b[43mallow_redirects\u001b[49m\u001b[38;5;241;43m=\u001b[39;49m\u001b[43mallow_redirects\u001b[49m\u001b[43m,\u001b[49m\n\u001b[0;32m    763\u001b[0m \u001b[43m        \u001b[49m\u001b[43mtimeout\u001b[49m\u001b[38;5;241;43m=\u001b[39;49m\u001b[43mtimeout\u001b[49m\u001b[43m,\u001b[49m\n\u001b[0;32m    764\u001b[0m \u001b[43m    \u001b[49m\u001b[43m)\u001b[49m\n",
      "File \u001b[1;32m~\\AppData\\Local\\Packages\\PythonSoftwareFoundation.Python.3.11_qbz5n2kfra8p0\\LocalCache\\local-packages\\Python311\\site-packages\\httpx\\_client.py:600\u001b[0m, in \u001b[0;36mClient.request\u001b[1;34m(self, method, url, data, files, json, params, headers, cookies, auth, allow_redirects, timeout)\u001b[0m\n\u001b[0;32m    575\u001b[0m \u001b[38;5;28;01mdef\u001b[39;00m \u001b[38;5;21mrequest\u001b[39m(\n\u001b[0;32m    576\u001b[0m     \u001b[38;5;28mself\u001b[39m,\n\u001b[0;32m    577\u001b[0m     method: \u001b[38;5;28mstr\u001b[39m,\n\u001b[1;32m   (...)\u001b[0m\n\u001b[0;32m    588\u001b[0m     timeout: typing\u001b[38;5;241m.\u001b[39mUnion[TimeoutTypes, UnsetType] \u001b[38;5;241m=\u001b[39m UNSET,\n\u001b[0;32m    589\u001b[0m ) \u001b[38;5;241m-\u001b[39m\u001b[38;5;241m>\u001b[39m Response:\n\u001b[0;32m    590\u001b[0m     request \u001b[38;5;241m=\u001b[39m \u001b[38;5;28mself\u001b[39m\u001b[38;5;241m.\u001b[39mbuild_request(\n\u001b[0;32m    591\u001b[0m         method\u001b[38;5;241m=\u001b[39mmethod,\n\u001b[0;32m    592\u001b[0m         url\u001b[38;5;241m=\u001b[39murl,\n\u001b[1;32m   (...)\u001b[0m\n\u001b[0;32m    598\u001b[0m         cookies\u001b[38;5;241m=\u001b[39mcookies,\n\u001b[0;32m    599\u001b[0m     )\n\u001b[1;32m--> 600\u001b[0m     \u001b[38;5;28;01mreturn\u001b[39;00m \u001b[38;5;28;43mself\u001b[39;49m\u001b[38;5;241;43m.\u001b[39;49m\u001b[43msend\u001b[49m\u001b[43m(\u001b[49m\n\u001b[0;32m    601\u001b[0m \u001b[43m        \u001b[49m\u001b[43mrequest\u001b[49m\u001b[43m,\u001b[49m\u001b[43m \u001b[49m\u001b[43mauth\u001b[49m\u001b[38;5;241;43m=\u001b[39;49m\u001b[43mauth\u001b[49m\u001b[43m,\u001b[49m\u001b[43m \u001b[49m\u001b[43mallow_redirects\u001b[49m\u001b[38;5;241;43m=\u001b[39;49m\u001b[43mallow_redirects\u001b[49m\u001b[43m,\u001b[49m\u001b[43m \u001b[49m\u001b[43mtimeout\u001b[49m\u001b[38;5;241;43m=\u001b[39;49m\u001b[43mtimeout\u001b[49m\u001b[43m,\u001b[49m\n\u001b[0;32m    602\u001b[0m \u001b[43m    \u001b[49m\u001b[43m)\u001b[49m\n",
      "File \u001b[1;32m~\\AppData\\Local\\Packages\\PythonSoftwareFoundation.Python.3.11_qbz5n2kfra8p0\\LocalCache\\local-packages\\Python311\\site-packages\\httpx\\_client.py:620\u001b[0m, in \u001b[0;36mClient.send\u001b[1;34m(self, request, stream, auth, allow_redirects, timeout)\u001b[0m\n\u001b[0;32m    616\u001b[0m timeout \u001b[38;5;241m=\u001b[39m \u001b[38;5;28mself\u001b[39m\u001b[38;5;241m.\u001b[39mtimeout \u001b[38;5;28;01mif\u001b[39;00m \u001b[38;5;28misinstance\u001b[39m(timeout, UnsetType) \u001b[38;5;28;01melse\u001b[39;00m Timeout(timeout)\n\u001b[0;32m    618\u001b[0m auth \u001b[38;5;241m=\u001b[39m \u001b[38;5;28mself\u001b[39m\u001b[38;5;241m.\u001b[39mbuild_auth(request, auth)\n\u001b[1;32m--> 620\u001b[0m response \u001b[38;5;241m=\u001b[39m \u001b[38;5;28;43mself\u001b[39;49m\u001b[38;5;241;43m.\u001b[39;49m\u001b[43msend_handling_redirects\u001b[49m\u001b[43m(\u001b[49m\n\u001b[0;32m    621\u001b[0m \u001b[43m    \u001b[49m\u001b[43mrequest\u001b[49m\u001b[43m,\u001b[49m\u001b[43m \u001b[49m\u001b[43mauth\u001b[49m\u001b[38;5;241;43m=\u001b[39;49m\u001b[43mauth\u001b[49m\u001b[43m,\u001b[49m\u001b[43m \u001b[49m\u001b[43mtimeout\u001b[49m\u001b[38;5;241;43m=\u001b[39;49m\u001b[43mtimeout\u001b[49m\u001b[43m,\u001b[49m\u001b[43m \u001b[49m\u001b[43mallow_redirects\u001b[49m\u001b[38;5;241;43m=\u001b[39;49m\u001b[43mallow_redirects\u001b[49m\u001b[43m,\u001b[49m\n\u001b[0;32m    622\u001b[0m \u001b[43m\u001b[49m\u001b[43m)\u001b[49m\n\u001b[0;32m    624\u001b[0m \u001b[38;5;28;01mif\u001b[39;00m \u001b[38;5;129;01mnot\u001b[39;00m stream:\n\u001b[0;32m    625\u001b[0m     \u001b[38;5;28;01mtry\u001b[39;00m:\n",
      "File \u001b[1;32m~\\AppData\\Local\\Packages\\PythonSoftwareFoundation.Python.3.11_qbz5n2kfra8p0\\LocalCache\\local-packages\\Python311\\site-packages\\httpx\\_client.py:647\u001b[0m, in \u001b[0;36mClient.send_handling_redirects\u001b[1;34m(self, request, auth, timeout, allow_redirects, history)\u001b[0m\n\u001b[0;32m    644\u001b[0m \u001b[38;5;28;01mif\u001b[39;00m \u001b[38;5;28mlen\u001b[39m(history) \u001b[38;5;241m>\u001b[39m \u001b[38;5;28mself\u001b[39m\u001b[38;5;241m.\u001b[39mmax_redirects:\n\u001b[0;32m    645\u001b[0m     \u001b[38;5;28;01mraise\u001b[39;00m TooManyRedirects()\n\u001b[1;32m--> 647\u001b[0m response \u001b[38;5;241m=\u001b[39m \u001b[38;5;28;43mself\u001b[39;49m\u001b[38;5;241;43m.\u001b[39;49m\u001b[43msend_handling_auth\u001b[49m\u001b[43m(\u001b[49m\n\u001b[0;32m    648\u001b[0m \u001b[43m    \u001b[49m\u001b[43mrequest\u001b[49m\u001b[43m,\u001b[49m\u001b[43m \u001b[49m\u001b[43mauth\u001b[49m\u001b[38;5;241;43m=\u001b[39;49m\u001b[43mauth\u001b[49m\u001b[43m,\u001b[49m\u001b[43m \u001b[49m\u001b[43mtimeout\u001b[49m\u001b[38;5;241;43m=\u001b[39;49m\u001b[43mtimeout\u001b[49m\u001b[43m,\u001b[49m\u001b[43m \u001b[49m\u001b[43mhistory\u001b[49m\u001b[38;5;241;43m=\u001b[39;49m\u001b[43mhistory\u001b[49m\n\u001b[0;32m    649\u001b[0m \u001b[43m\u001b[49m\u001b[43m)\u001b[49m\n\u001b[0;32m    650\u001b[0m response\u001b[38;5;241m.\u001b[39mhistory \u001b[38;5;241m=\u001b[39m \u001b[38;5;28mlist\u001b[39m(history)\n\u001b[0;32m    652\u001b[0m \u001b[38;5;28;01mif\u001b[39;00m \u001b[38;5;129;01mnot\u001b[39;00m response\u001b[38;5;241m.\u001b[39mis_redirect:\n",
      "File \u001b[1;32m~\\AppData\\Local\\Packages\\PythonSoftwareFoundation.Python.3.11_qbz5n2kfra8p0\\LocalCache\\local-packages\\Python311\\site-packages\\httpx\\_client.py:684\u001b[0m, in \u001b[0;36mClient.send_handling_auth\u001b[1;34m(self, request, history, auth, timeout)\u001b[0m\n\u001b[0;32m    682\u001b[0m request \u001b[38;5;241m=\u001b[39m \u001b[38;5;28mnext\u001b[39m(auth_flow)\n\u001b[0;32m    683\u001b[0m \u001b[38;5;28;01mwhile\u001b[39;00m \u001b[38;5;28;01mTrue\u001b[39;00m:\n\u001b[1;32m--> 684\u001b[0m     response \u001b[38;5;241m=\u001b[39m \u001b[38;5;28;43mself\u001b[39;49m\u001b[38;5;241;43m.\u001b[39;49m\u001b[43msend_single_request\u001b[49m\u001b[43m(\u001b[49m\u001b[43mrequest\u001b[49m\u001b[43m,\u001b[49m\u001b[43m \u001b[49m\u001b[43mtimeout\u001b[49m\u001b[43m)\u001b[49m\n\u001b[0;32m    685\u001b[0m     \u001b[38;5;28;01mif\u001b[39;00m auth\u001b[38;5;241m.\u001b[39mrequires_response_body:\n\u001b[0;32m    686\u001b[0m         response\u001b[38;5;241m.\u001b[39mread()\n",
      "File \u001b[1;32m~\\AppData\\Local\\Packages\\PythonSoftwareFoundation.Python.3.11_qbz5n2kfra8p0\\LocalCache\\local-packages\\Python311\\site-packages\\httpx\\_client.py:714\u001b[0m, in \u001b[0;36mClient.send_single_request\u001b[1;34m(self, request, timeout)\u001b[0m\n\u001b[0;32m    705\u001b[0m transport \u001b[38;5;241m=\u001b[39m \u001b[38;5;28mself\u001b[39m\u001b[38;5;241m.\u001b[39mtransport_for_url(request\u001b[38;5;241m.\u001b[39murl)\n\u001b[0;32m    707\u001b[0m \u001b[38;5;28;01mtry\u001b[39;00m:\n\u001b[0;32m    708\u001b[0m     (\n\u001b[0;32m    709\u001b[0m         http_version,\n\u001b[0;32m    710\u001b[0m         status_code,\n\u001b[0;32m    711\u001b[0m         reason_phrase,\n\u001b[0;32m    712\u001b[0m         headers,\n\u001b[0;32m    713\u001b[0m         stream,\n\u001b[1;32m--> 714\u001b[0m     ) \u001b[38;5;241m=\u001b[39m \u001b[43mtransport\u001b[49m\u001b[38;5;241;43m.\u001b[39;49m\u001b[43mrequest\u001b[49m\u001b[43m(\u001b[49m\n\u001b[0;32m    715\u001b[0m \u001b[43m        \u001b[49m\u001b[43mrequest\u001b[49m\u001b[38;5;241;43m.\u001b[39;49m\u001b[43mmethod\u001b[49m\u001b[38;5;241;43m.\u001b[39;49m\u001b[43mencode\u001b[49m\u001b[43m(\u001b[49m\u001b[43m)\u001b[49m\u001b[43m,\u001b[49m\n\u001b[0;32m    716\u001b[0m \u001b[43m        \u001b[49m\u001b[43mrequest\u001b[49m\u001b[38;5;241;43m.\u001b[39;49m\u001b[43murl\u001b[49m\u001b[38;5;241;43m.\u001b[39;49m\u001b[43mraw\u001b[49m\u001b[43m,\u001b[49m\n\u001b[0;32m    717\u001b[0m \u001b[43m        \u001b[49m\u001b[43mheaders\u001b[49m\u001b[38;5;241;43m=\u001b[39;49m\u001b[43mrequest\u001b[49m\u001b[38;5;241;43m.\u001b[39;49m\u001b[43mheaders\u001b[49m\u001b[38;5;241;43m.\u001b[39;49m\u001b[43mraw\u001b[49m\u001b[43m,\u001b[49m\n\u001b[0;32m    718\u001b[0m \u001b[43m        \u001b[49m\u001b[43mstream\u001b[49m\u001b[38;5;241;43m=\u001b[39;49m\u001b[43mrequest\u001b[49m\u001b[38;5;241;43m.\u001b[39;49m\u001b[43mstream\u001b[49m\u001b[43m,\u001b[49m\n\u001b[0;32m    719\u001b[0m \u001b[43m        \u001b[49m\u001b[43mtimeout\u001b[49m\u001b[38;5;241;43m=\u001b[39;49m\u001b[43mtimeout\u001b[49m\u001b[38;5;241;43m.\u001b[39;49m\u001b[43mas_dict\u001b[49m\u001b[43m(\u001b[49m\u001b[43m)\u001b[49m\u001b[43m,\u001b[49m\n\u001b[0;32m    720\u001b[0m \u001b[43m    \u001b[49m\u001b[43m)\u001b[49m\n\u001b[0;32m    721\u001b[0m \u001b[38;5;28;01mexcept\u001b[39;00m HTTPError \u001b[38;5;28;01mas\u001b[39;00m exc:\n\u001b[0;32m    722\u001b[0m     \u001b[38;5;66;03m# Add the original request to any HTTPError unless\u001b[39;00m\n\u001b[0;32m    723\u001b[0m     \u001b[38;5;66;03m# there'a already a request attached in the case of\u001b[39;00m\n\u001b[0;32m    724\u001b[0m     \u001b[38;5;66;03m# a ProxyError.\u001b[39;00m\n\u001b[0;32m    725\u001b[0m     \u001b[38;5;28;01mif\u001b[39;00m exc\u001b[38;5;241m.\u001b[39m_request \u001b[38;5;129;01mis\u001b[39;00m \u001b[38;5;28;01mNone\u001b[39;00m:\n",
      "File \u001b[1;32m~\\AppData\\Local\\Packages\\PythonSoftwareFoundation.Python.3.11_qbz5n2kfra8p0\\LocalCache\\local-packages\\Python311\\site-packages\\httpcore\\_sync\\http_proxy.py:110\u001b[0m, in \u001b[0;36mSyncHTTPProxy.request\u001b[1;34m(self, method, url, headers, stream, timeout)\u001b[0m\n\u001b[0;32m    101\u001b[0m \u001b[38;5;28;01melse\u001b[39;00m:\n\u001b[0;32m    102\u001b[0m     \u001b[38;5;66;03m# By default HTTPS should be tunnelled.\u001b[39;00m\n\u001b[0;32m    103\u001b[0m     logger\u001b[38;5;241m.\u001b[39mtrace(\n\u001b[0;32m    104\u001b[0m         \u001b[38;5;124m\"\u001b[39m\u001b[38;5;124mtunnel_request proxy_origin=\u001b[39m\u001b[38;5;132;01m%r\u001b[39;00m\u001b[38;5;124m proxy_headers=\u001b[39m\u001b[38;5;132;01m%r\u001b[39;00m\u001b[38;5;124m method=\u001b[39m\u001b[38;5;132;01m%r\u001b[39;00m\u001b[38;5;124m url=\u001b[39m\u001b[38;5;132;01m%r\u001b[39;00m\u001b[38;5;124m\"\u001b[39m,\n\u001b[0;32m    105\u001b[0m         \u001b[38;5;28mself\u001b[39m\u001b[38;5;241m.\u001b[39mproxy_origin,\n\u001b[1;32m   (...)\u001b[0m\n\u001b[0;32m    108\u001b[0m         url,\n\u001b[0;32m    109\u001b[0m     )\n\u001b[1;32m--> 110\u001b[0m     \u001b[38;5;28;01mreturn\u001b[39;00m \u001b[38;5;28;43mself\u001b[39;49m\u001b[38;5;241;43m.\u001b[39;49m\u001b[43m_tunnel_request\u001b[49m\u001b[43m(\u001b[49m\n\u001b[0;32m    111\u001b[0m \u001b[43m        \u001b[49m\u001b[43mmethod\u001b[49m\u001b[43m,\u001b[49m\u001b[43m \u001b[49m\u001b[43murl\u001b[49m\u001b[43m,\u001b[49m\u001b[43m \u001b[49m\u001b[43mheaders\u001b[49m\u001b[38;5;241;43m=\u001b[39;49m\u001b[43mheaders\u001b[49m\u001b[43m,\u001b[49m\u001b[43m \u001b[49m\u001b[43mstream\u001b[49m\u001b[38;5;241;43m=\u001b[39;49m\u001b[43mstream\u001b[49m\u001b[43m,\u001b[49m\u001b[43m \u001b[49m\u001b[43mtimeout\u001b[49m\u001b[38;5;241;43m=\u001b[39;49m\u001b[43mtimeout\u001b[49m\n\u001b[0;32m    112\u001b[0m \u001b[43m    \u001b[49m\u001b[43m)\u001b[49m\n",
      "File \u001b[1;32m~\\AppData\\Local\\Packages\\PythonSoftwareFoundation.Python.3.11_qbz5n2kfra8p0\\LocalCache\\local-packages\\Python311\\site-packages\\httpcore\\_sync\\http_proxy.py:191\u001b[0m, in \u001b[0;36mSyncHTTPProxy._tunnel_request\u001b[1;34m(self, method, url, headers, stream, timeout)\u001b[0m\n\u001b[0;32m    189\u001b[0m connect_headers \u001b[38;5;241m=\u001b[39m [(\u001b[38;5;124mb\u001b[39m\u001b[38;5;124m\"\u001b[39m\u001b[38;5;124mHost\u001b[39m\u001b[38;5;124m\"\u001b[39m, target), (\u001b[38;5;124mb\u001b[39m\u001b[38;5;124m\"\u001b[39m\u001b[38;5;124mAccept\u001b[39m\u001b[38;5;124m\"\u001b[39m, \u001b[38;5;124mb\u001b[39m\u001b[38;5;124m\"\u001b[39m\u001b[38;5;124m*/*\u001b[39m\u001b[38;5;124m\"\u001b[39m)]\n\u001b[0;32m    190\u001b[0m connect_headers \u001b[38;5;241m=\u001b[39m merge_headers(connect_headers, \u001b[38;5;28mself\u001b[39m\u001b[38;5;241m.\u001b[39mproxy_headers)\n\u001b[1;32m--> 191\u001b[0m proxy_response \u001b[38;5;241m=\u001b[39m \u001b[43mproxy_connection\u001b[49m\u001b[38;5;241;43m.\u001b[39;49m\u001b[43mrequest\u001b[49m\u001b[43m(\u001b[49m\n\u001b[0;32m    192\u001b[0m \u001b[43m    \u001b[49m\u001b[38;5;124;43mb\u001b[39;49m\u001b[38;5;124;43m\"\u001b[39;49m\u001b[38;5;124;43mCONNECT\u001b[39;49m\u001b[38;5;124;43m\"\u001b[39;49m\u001b[43m,\u001b[49m\u001b[43m \u001b[49m\u001b[43mconnect_url\u001b[49m\u001b[43m,\u001b[49m\u001b[43m \u001b[49m\u001b[43mheaders\u001b[49m\u001b[38;5;241;43m=\u001b[39;49m\u001b[43mconnect_headers\u001b[49m\u001b[43m,\u001b[49m\u001b[43m \u001b[49m\u001b[43mtimeout\u001b[49m\u001b[38;5;241;43m=\u001b[39;49m\u001b[43mtimeout\u001b[49m\n\u001b[0;32m    193\u001b[0m \u001b[43m\u001b[49m\u001b[43m)\u001b[49m\n\u001b[0;32m    194\u001b[0m proxy_status_code \u001b[38;5;241m=\u001b[39m proxy_response[\u001b[38;5;241m1\u001b[39m]\n\u001b[0;32m    195\u001b[0m proxy_reason_phrase \u001b[38;5;241m=\u001b[39m proxy_response[\u001b[38;5;241m2\u001b[39m]\n",
      "File \u001b[1;32m~\\AppData\\Local\\Packages\\PythonSoftwareFoundation.Python.3.11_qbz5n2kfra8p0\\LocalCache\\local-packages\\Python311\\site-packages\\httpcore\\_sync\\connection.py:78\u001b[0m, in \u001b[0;36mSyncHTTPConnection.request\u001b[1;34m(self, method, url, headers, stream, timeout)\u001b[0m\n\u001b[0;32m     74\u001b[0m \u001b[38;5;28;01massert\u001b[39;00m \u001b[38;5;28mself\u001b[39m\u001b[38;5;241m.\u001b[39mconnection \u001b[38;5;129;01mis\u001b[39;00m \u001b[38;5;129;01mnot\u001b[39;00m \u001b[38;5;28;01mNone\u001b[39;00m\n\u001b[0;32m     75\u001b[0m logger\u001b[38;5;241m.\u001b[39mtrace(\n\u001b[0;32m     76\u001b[0m     \u001b[38;5;124m\"\u001b[39m\u001b[38;5;124mconnection.request method=\u001b[39m\u001b[38;5;132;01m%r\u001b[39;00m\u001b[38;5;124m url=\u001b[39m\u001b[38;5;132;01m%r\u001b[39;00m\u001b[38;5;124m headers=\u001b[39m\u001b[38;5;132;01m%r\u001b[39;00m\u001b[38;5;124m\"\u001b[39m, method, url, headers\n\u001b[0;32m     77\u001b[0m )\n\u001b[1;32m---> 78\u001b[0m \u001b[38;5;28;01mreturn\u001b[39;00m \u001b[38;5;28;43mself\u001b[39;49m\u001b[38;5;241;43m.\u001b[39;49m\u001b[43mconnection\u001b[49m\u001b[38;5;241;43m.\u001b[39;49m\u001b[43mrequest\u001b[49m\u001b[43m(\u001b[49m\u001b[43mmethod\u001b[49m\u001b[43m,\u001b[49m\u001b[43m \u001b[49m\u001b[43murl\u001b[49m\u001b[43m,\u001b[49m\u001b[43m \u001b[49m\u001b[43mheaders\u001b[49m\u001b[43m,\u001b[49m\u001b[43m \u001b[49m\u001b[43mstream\u001b[49m\u001b[43m,\u001b[49m\u001b[43m \u001b[49m\u001b[43mtimeout\u001b[49m\u001b[43m)\u001b[49m\n",
      "File \u001b[1;32m~\\AppData\\Local\\Packages\\PythonSoftwareFoundation.Python.3.11_qbz5n2kfra8p0\\LocalCache\\local-packages\\Python311\\site-packages\\httpcore\\_sync\\http11.py:62\u001b[0m, in \u001b[0;36mSyncHTTP11Connection.request\u001b[1;34m(self, method, url, headers, stream, timeout)\u001b[0m\n\u001b[0;32m     55\u001b[0m \u001b[38;5;28mself\u001b[39m\u001b[38;5;241m.\u001b[39m_send_request(method, url, headers, timeout)\n\u001b[0;32m     56\u001b[0m \u001b[38;5;28mself\u001b[39m\u001b[38;5;241m.\u001b[39m_send_request_body(stream, timeout)\n\u001b[0;32m     57\u001b[0m (\n\u001b[0;32m     58\u001b[0m     http_version,\n\u001b[0;32m     59\u001b[0m     status_code,\n\u001b[0;32m     60\u001b[0m     reason_phrase,\n\u001b[0;32m     61\u001b[0m     headers,\n\u001b[1;32m---> 62\u001b[0m ) \u001b[38;5;241m=\u001b[39m \u001b[38;5;28;43mself\u001b[39;49m\u001b[38;5;241;43m.\u001b[39;49m\u001b[43m_receive_response\u001b[49m\u001b[43m(\u001b[49m\u001b[43mtimeout\u001b[49m\u001b[43m)\u001b[49m\n\u001b[0;32m     63\u001b[0m stream \u001b[38;5;241m=\u001b[39m SyncByteStream(\n\u001b[0;32m     64\u001b[0m     iterator\u001b[38;5;241m=\u001b[39m\u001b[38;5;28mself\u001b[39m\u001b[38;5;241m.\u001b[39m_receive_response_data(timeout),\n\u001b[0;32m     65\u001b[0m     close_func\u001b[38;5;241m=\u001b[39m\u001b[38;5;28mself\u001b[39m\u001b[38;5;241m.\u001b[39m_response_closed,\n\u001b[0;32m     66\u001b[0m )\n\u001b[0;32m     67\u001b[0m \u001b[38;5;28;01mreturn\u001b[39;00m (http_version, status_code, reason_phrase, headers, stream)\n",
      "File \u001b[1;32m~\\AppData\\Local\\Packages\\PythonSoftwareFoundation.Python.3.11_qbz5n2kfra8p0\\LocalCache\\local-packages\\Python311\\site-packages\\httpcore\\_sync\\http11.py:115\u001b[0m, in \u001b[0;36mSyncHTTP11Connection._receive_response\u001b[1;34m(self, timeout)\u001b[0m\n\u001b[0;32m    111\u001b[0m \u001b[38;5;250m\u001b[39m\u001b[38;5;124;03m\"\"\"\u001b[39;00m\n\u001b[0;32m    112\u001b[0m \u001b[38;5;124;03mRead the response status and headers from the network.\u001b[39;00m\n\u001b[0;32m    113\u001b[0m \u001b[38;5;124;03m\"\"\"\u001b[39;00m\n\u001b[0;32m    114\u001b[0m \u001b[38;5;28;01mwhile\u001b[39;00m \u001b[38;5;28;01mTrue\u001b[39;00m:\n\u001b[1;32m--> 115\u001b[0m     event \u001b[38;5;241m=\u001b[39m \u001b[38;5;28;43mself\u001b[39;49m\u001b[38;5;241;43m.\u001b[39;49m\u001b[43m_receive_event\u001b[49m\u001b[43m(\u001b[49m\u001b[43mtimeout\u001b[49m\u001b[43m)\u001b[49m\n\u001b[0;32m    116\u001b[0m     \u001b[38;5;28;01mif\u001b[39;00m \u001b[38;5;28misinstance\u001b[39m(event, h11\u001b[38;5;241m.\u001b[39mResponse):\n\u001b[0;32m    117\u001b[0m         \u001b[38;5;28;01mbreak\u001b[39;00m\n",
      "File \u001b[1;32m~\\AppData\\Local\\Packages\\PythonSoftwareFoundation.Python.3.11_qbz5n2kfra8p0\\LocalCache\\local-packages\\Python311\\site-packages\\httpcore\\_sync\\http11.py:145\u001b[0m, in \u001b[0;36mSyncHTTP11Connection._receive_event\u001b[1;34m(self, timeout)\u001b[0m\n\u001b[0;32m    142\u001b[0m     event \u001b[38;5;241m=\u001b[39m \u001b[38;5;28mself\u001b[39m\u001b[38;5;241m.\u001b[39mh11_state\u001b[38;5;241m.\u001b[39mnext_event()\n\u001b[0;32m    144\u001b[0m \u001b[38;5;28;01mif\u001b[39;00m event \u001b[38;5;129;01mis\u001b[39;00m h11\u001b[38;5;241m.\u001b[39mNEED_DATA:\n\u001b[1;32m--> 145\u001b[0m     data \u001b[38;5;241m=\u001b[39m \u001b[38;5;28;43mself\u001b[39;49m\u001b[38;5;241;43m.\u001b[39;49m\u001b[43msocket\u001b[49m\u001b[38;5;241;43m.\u001b[39;49m\u001b[43mread\u001b[49m\u001b[43m(\u001b[49m\u001b[38;5;28;43mself\u001b[39;49m\u001b[38;5;241;43m.\u001b[39;49m\u001b[43mREAD_NUM_BYTES\u001b[49m\u001b[43m,\u001b[49m\u001b[43m \u001b[49m\u001b[43mtimeout\u001b[49m\u001b[43m)\u001b[49m\n\u001b[0;32m    146\u001b[0m     \u001b[38;5;28mself\u001b[39m\u001b[38;5;241m.\u001b[39mh11_state\u001b[38;5;241m.\u001b[39mreceive_data(data)\n\u001b[0;32m    147\u001b[0m \u001b[38;5;28;01melse\u001b[39;00m:\n",
      "File \u001b[1;32m~\\AppData\\Local\\Packages\\PythonSoftwareFoundation.Python.3.11_qbz5n2kfra8p0\\LocalCache\\local-packages\\Python311\\site-packages\\httpcore\\_backends\\sync.py:60\u001b[0m, in \u001b[0;36mSyncSocketStream.read\u001b[1;34m(self, n, timeout)\u001b[0m\n\u001b[0;32m     57\u001b[0m exc_map \u001b[38;5;241m=\u001b[39m {socket\u001b[38;5;241m.\u001b[39mtimeout: ReadTimeout, socket\u001b[38;5;241m.\u001b[39merror: ReadError}\n\u001b[0;32m     59\u001b[0m \u001b[38;5;28;01mwith\u001b[39;00m \u001b[38;5;28mself\u001b[39m\u001b[38;5;241m.\u001b[39mread_lock:\n\u001b[1;32m---> 60\u001b[0m \u001b[43m    \u001b[49m\u001b[38;5;28;43;01mwith\u001b[39;49;00m\u001b[43m \u001b[49m\u001b[43mmap_exceptions\u001b[49m\u001b[43m(\u001b[49m\u001b[43mexc_map\u001b[49m\u001b[43m)\u001b[49m\u001b[43m:\u001b[49m\n\u001b[0;32m     61\u001b[0m \u001b[43m        \u001b[49m\u001b[38;5;28;43mself\u001b[39;49m\u001b[38;5;241;43m.\u001b[39;49m\u001b[43msock\u001b[49m\u001b[38;5;241;43m.\u001b[39;49m\u001b[43msettimeout\u001b[49m\u001b[43m(\u001b[49m\u001b[43mread_timeout\u001b[49m\u001b[43m)\u001b[49m\n\u001b[0;32m     62\u001b[0m \u001b[43m        \u001b[49m\u001b[38;5;28;43;01mreturn\u001b[39;49;00m\u001b[43m \u001b[49m\u001b[38;5;28;43mself\u001b[39;49m\u001b[38;5;241;43m.\u001b[39;49m\u001b[43msock\u001b[49m\u001b[38;5;241;43m.\u001b[39;49m\u001b[43mrecv\u001b[49m\u001b[43m(\u001b[49m\u001b[43mn\u001b[49m\u001b[43m)\u001b[49m\n",
      "File \u001b[1;32mC:\\Program Files\\WindowsApps\\PythonSoftwareFoundation.Python.3.11_3.11.2544.0_x64__qbz5n2kfra8p0\\Lib\\contextlib.py:158\u001b[0m, in \u001b[0;36m_GeneratorContextManager.__exit__\u001b[1;34m(self, typ, value, traceback)\u001b[0m\n\u001b[0;32m    156\u001b[0m     value \u001b[38;5;241m=\u001b[39m typ()\n\u001b[0;32m    157\u001b[0m \u001b[38;5;28;01mtry\u001b[39;00m:\n\u001b[1;32m--> 158\u001b[0m     \u001b[38;5;28mself\u001b[39m\u001b[38;5;241m.\u001b[39mgen\u001b[38;5;241m.\u001b[39mthrow(typ, value, traceback)\n\u001b[0;32m    159\u001b[0m \u001b[38;5;28;01mexcept\u001b[39;00m \u001b[38;5;167;01mStopIteration\u001b[39;00m \u001b[38;5;28;01mas\u001b[39;00m exc:\n\u001b[0;32m    160\u001b[0m     \u001b[38;5;66;03m# Suppress StopIteration *unless* it's the same exception that\u001b[39;00m\n\u001b[0;32m    161\u001b[0m     \u001b[38;5;66;03m# was passed to throw().  This prevents a StopIteration\u001b[39;00m\n\u001b[0;32m    162\u001b[0m     \u001b[38;5;66;03m# raised inside the \"with\" statement from being suppressed.\u001b[39;00m\n\u001b[0;32m    163\u001b[0m     \u001b[38;5;28;01mreturn\u001b[39;00m exc \u001b[38;5;129;01mis\u001b[39;00m \u001b[38;5;129;01mnot\u001b[39;00m value\n",
      "File \u001b[1;32m~\\AppData\\Local\\Packages\\PythonSoftwareFoundation.Python.3.11_qbz5n2kfra8p0\\LocalCache\\local-packages\\Python311\\site-packages\\httpcore\\_exceptions.py:12\u001b[0m, in \u001b[0;36mmap_exceptions\u001b[1;34m(map)\u001b[0m\n\u001b[0;32m     10\u001b[0m \u001b[38;5;28;01mfor\u001b[39;00m from_exc, to_exc \u001b[38;5;129;01min\u001b[39;00m \u001b[38;5;28mmap\u001b[39m\u001b[38;5;241m.\u001b[39mitems():\n\u001b[0;32m     11\u001b[0m     \u001b[38;5;28;01mif\u001b[39;00m \u001b[38;5;28misinstance\u001b[39m(exc, from_exc):\n\u001b[1;32m---> 12\u001b[0m         \u001b[38;5;28;01mraise\u001b[39;00m to_exc(exc) \u001b[38;5;28;01mfrom\u001b[39;00m \u001b[38;5;28;01mNone\u001b[39;00m\n\u001b[0;32m     13\u001b[0m \u001b[38;5;28;01mraise\u001b[39;00m\n",
      "\u001b[1;31mReadTimeout\u001b[0m: timed out"
     ]
    }
   ],
   "source": [
    "\n",
    "if __name__ == \"__main__\":\n",
    "    playlist_url = \"https://www.youtube.com/playlist?list=PL3HhMTCWB-e8dxlpnMDQMFEjX1TRDMsnF\"\n",
    "    video_output_dir = \"D:/Videos\"\n",
    "    csv_output_path = \"D:/Data/video_info.csv\"\n",
    "    main(playlist_url, video_output_dir=video_output_dir, csv_output=csv_output_path)"
   ]
  }
 ],
 "metadata": {
  "kernelspec": {
   "display_name": "Python 3",
   "language": "python",
   "name": "python3"
  },
  "language_info": {
   "codemirror_mode": {
    "name": "ipython",
    "version": 3
   },
   "file_extension": ".py",
   "mimetype": "text/x-python",
   "name": "python",
   "nbconvert_exporter": "python",
   "pygments_lexer": "ipython3",
   "version": "3.11.9"
  }
 },
 "nbformat": 4,
 "nbformat_minor": 2
}
